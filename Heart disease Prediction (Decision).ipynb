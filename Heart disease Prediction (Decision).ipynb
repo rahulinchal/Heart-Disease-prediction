{
 "cells": [
  {
   "cell_type": "code",
   "execution_count": 1,
   "id": "9aafcb7e",
   "metadata": {},
   "outputs": [],
   "source": [
    "import numpy as np\n",
    "import pandas as pd\n",
    "import seaborn as sns\n",
    "from matplotlib import pyplot as plt\n",
    "%matplotlib inline\n",
    "\n",
    "import warnings\n",
    "warnings.filterwarnings('ignore')"
   ]
  },
  {
   "cell_type": "code",
   "execution_count": 2,
   "id": "355f9911",
   "metadata": {},
   "outputs": [],
   "source": [
    "df = pd.read_csv(\"https://raw.githubusercontent.com/GauriPaithankar/Datasets/main/Heart_Disease_Prediction.csv\")"
   ]
  },
  {
   "cell_type": "code",
   "execution_count": 3,
   "id": "d36868bc",
   "metadata": {},
   "outputs": [
    {
     "data": {
      "text/html": [
       "<div>\n",
       "<style scoped>\n",
       "    .dataframe tbody tr th:only-of-type {\n",
       "        vertical-align: middle;\n",
       "    }\n",
       "\n",
       "    .dataframe tbody tr th {\n",
       "        vertical-align: top;\n",
       "    }\n",
       "\n",
       "    .dataframe thead th {\n",
       "        text-align: right;\n",
       "    }\n",
       "</style>\n",
       "<table border=\"1\" class=\"dataframe\">\n",
       "  <thead>\n",
       "    <tr style=\"text-align: right;\">\n",
       "      <th></th>\n",
       "      <th>Age</th>\n",
       "      <th>Sex</th>\n",
       "      <th>Chest pain type</th>\n",
       "      <th>BP</th>\n",
       "      <th>Cholesterol</th>\n",
       "      <th>FBS over 120</th>\n",
       "      <th>EKG results</th>\n",
       "      <th>Max HR</th>\n",
       "      <th>Exercise angina</th>\n",
       "      <th>ST depression</th>\n",
       "      <th>Slope of ST</th>\n",
       "      <th>Number of vessels fluro</th>\n",
       "      <th>Thallium</th>\n",
       "      <th>Heart Disease</th>\n",
       "    </tr>\n",
       "  </thead>\n",
       "  <tbody>\n",
       "    <tr>\n",
       "      <th>0</th>\n",
       "      <td>70</td>\n",
       "      <td>1</td>\n",
       "      <td>4</td>\n",
       "      <td>130</td>\n",
       "      <td>322</td>\n",
       "      <td>0</td>\n",
       "      <td>2</td>\n",
       "      <td>109</td>\n",
       "      <td>0</td>\n",
       "      <td>2.4</td>\n",
       "      <td>2</td>\n",
       "      <td>3</td>\n",
       "      <td>3</td>\n",
       "      <td>Presence</td>\n",
       "    </tr>\n",
       "    <tr>\n",
       "      <th>1</th>\n",
       "      <td>67</td>\n",
       "      <td>0</td>\n",
       "      <td>3</td>\n",
       "      <td>115</td>\n",
       "      <td>564</td>\n",
       "      <td>0</td>\n",
       "      <td>2</td>\n",
       "      <td>160</td>\n",
       "      <td>0</td>\n",
       "      <td>1.6</td>\n",
       "      <td>2</td>\n",
       "      <td>0</td>\n",
       "      <td>7</td>\n",
       "      <td>Absence</td>\n",
       "    </tr>\n",
       "    <tr>\n",
       "      <th>2</th>\n",
       "      <td>57</td>\n",
       "      <td>1</td>\n",
       "      <td>2</td>\n",
       "      <td>124</td>\n",
       "      <td>261</td>\n",
       "      <td>0</td>\n",
       "      <td>0</td>\n",
       "      <td>141</td>\n",
       "      <td>0</td>\n",
       "      <td>0.3</td>\n",
       "      <td>1</td>\n",
       "      <td>0</td>\n",
       "      <td>7</td>\n",
       "      <td>Presence</td>\n",
       "    </tr>\n",
       "    <tr>\n",
       "      <th>3</th>\n",
       "      <td>64</td>\n",
       "      <td>1</td>\n",
       "      <td>4</td>\n",
       "      <td>128</td>\n",
       "      <td>263</td>\n",
       "      <td>0</td>\n",
       "      <td>0</td>\n",
       "      <td>105</td>\n",
       "      <td>1</td>\n",
       "      <td>0.2</td>\n",
       "      <td>2</td>\n",
       "      <td>1</td>\n",
       "      <td>7</td>\n",
       "      <td>Absence</td>\n",
       "    </tr>\n",
       "    <tr>\n",
       "      <th>4</th>\n",
       "      <td>74</td>\n",
       "      <td>0</td>\n",
       "      <td>2</td>\n",
       "      <td>120</td>\n",
       "      <td>269</td>\n",
       "      <td>0</td>\n",
       "      <td>2</td>\n",
       "      <td>121</td>\n",
       "      <td>1</td>\n",
       "      <td>0.2</td>\n",
       "      <td>1</td>\n",
       "      <td>1</td>\n",
       "      <td>3</td>\n",
       "      <td>Absence</td>\n",
       "    </tr>\n",
       "  </tbody>\n",
       "</table>\n",
       "</div>"
      ],
      "text/plain": [
       "   Age  Sex  Chest pain type   BP  Cholesterol  FBS over 120  EKG results  \\\n",
       "0   70    1                4  130          322             0            2   \n",
       "1   67    0                3  115          564             0            2   \n",
       "2   57    1                2  124          261             0            0   \n",
       "3   64    1                4  128          263             0            0   \n",
       "4   74    0                2  120          269             0            2   \n",
       "\n",
       "   Max HR  Exercise angina  ST depression  Slope of ST  \\\n",
       "0     109                0            2.4            2   \n",
       "1     160                0            1.6            2   \n",
       "2     141                0            0.3            1   \n",
       "3     105                1            0.2            2   \n",
       "4     121                1            0.2            1   \n",
       "\n",
       "   Number of vessels fluro  Thallium Heart Disease  \n",
       "0                        3         3      Presence  \n",
       "1                        0         7       Absence  \n",
       "2                        0         7      Presence  \n",
       "3                        1         7       Absence  \n",
       "4                        1         3       Absence  "
      ]
     },
     "execution_count": 3,
     "metadata": {},
     "output_type": "execute_result"
    }
   ],
   "source": [
    "df.head(5)"
   ]
  },
  {
   "cell_type": "code",
   "execution_count": 4,
   "id": "f6f39453",
   "metadata": {},
   "outputs": [
    {
     "name": "stdout",
     "output_type": "stream",
     "text": [
      "<class 'pandas.core.frame.DataFrame'>\n",
      "RangeIndex: 270 entries, 0 to 269\n",
      "Data columns (total 14 columns):\n",
      " #   Column                   Non-Null Count  Dtype  \n",
      "---  ------                   --------------  -----  \n",
      " 0   Age                      270 non-null    int64  \n",
      " 1   Sex                      270 non-null    int64  \n",
      " 2   Chest pain type          270 non-null    int64  \n",
      " 3   BP                       270 non-null    int64  \n",
      " 4   Cholesterol              270 non-null    int64  \n",
      " 5   FBS over 120             270 non-null    int64  \n",
      " 6   EKG results              270 non-null    int64  \n",
      " 7   Max HR                   270 non-null    int64  \n",
      " 8   Exercise angina          270 non-null    int64  \n",
      " 9   ST depression            270 non-null    float64\n",
      " 10  Slope of ST              270 non-null    int64  \n",
      " 11  Number of vessels fluro  270 non-null    int64  \n",
      " 12  Thallium                 270 non-null    int64  \n",
      " 13  Heart Disease            270 non-null    object \n",
      "dtypes: float64(1), int64(12), object(1)\n",
      "memory usage: 29.7+ KB\n"
     ]
    }
   ],
   "source": [
    "df.info()"
   ]
  },
  {
   "cell_type": "code",
   "execution_count": 5,
   "id": "86faae32",
   "metadata": {},
   "outputs": [
    {
     "data": {
      "text/html": [
       "<div>\n",
       "<style scoped>\n",
       "    .dataframe tbody tr th:only-of-type {\n",
       "        vertical-align: middle;\n",
       "    }\n",
       "\n",
       "    .dataframe tbody tr th {\n",
       "        vertical-align: top;\n",
       "    }\n",
       "\n",
       "    .dataframe thead th {\n",
       "        text-align: right;\n",
       "    }\n",
       "</style>\n",
       "<table border=\"1\" class=\"dataframe\">\n",
       "  <thead>\n",
       "    <tr style=\"text-align: right;\">\n",
       "      <th></th>\n",
       "      <th>count</th>\n",
       "      <th>mean</th>\n",
       "      <th>std</th>\n",
       "      <th>min</th>\n",
       "      <th>25%</th>\n",
       "      <th>50%</th>\n",
       "      <th>75%</th>\n",
       "      <th>max</th>\n",
       "    </tr>\n",
       "  </thead>\n",
       "  <tbody>\n",
       "    <tr>\n",
       "      <th>Age</th>\n",
       "      <td>270.0</td>\n",
       "      <td>54.433333</td>\n",
       "      <td>9.109067</td>\n",
       "      <td>29.0</td>\n",
       "      <td>48.0</td>\n",
       "      <td>55.0</td>\n",
       "      <td>61.0</td>\n",
       "      <td>77.0</td>\n",
       "    </tr>\n",
       "    <tr>\n",
       "      <th>Sex</th>\n",
       "      <td>270.0</td>\n",
       "      <td>0.677778</td>\n",
       "      <td>0.468195</td>\n",
       "      <td>0.0</td>\n",
       "      <td>0.0</td>\n",
       "      <td>1.0</td>\n",
       "      <td>1.0</td>\n",
       "      <td>1.0</td>\n",
       "    </tr>\n",
       "    <tr>\n",
       "      <th>Chest pain type</th>\n",
       "      <td>270.0</td>\n",
       "      <td>3.174074</td>\n",
       "      <td>0.950090</td>\n",
       "      <td>1.0</td>\n",
       "      <td>3.0</td>\n",
       "      <td>3.0</td>\n",
       "      <td>4.0</td>\n",
       "      <td>4.0</td>\n",
       "    </tr>\n",
       "    <tr>\n",
       "      <th>BP</th>\n",
       "      <td>270.0</td>\n",
       "      <td>131.344444</td>\n",
       "      <td>17.861608</td>\n",
       "      <td>94.0</td>\n",
       "      <td>120.0</td>\n",
       "      <td>130.0</td>\n",
       "      <td>140.0</td>\n",
       "      <td>200.0</td>\n",
       "    </tr>\n",
       "    <tr>\n",
       "      <th>Cholesterol</th>\n",
       "      <td>270.0</td>\n",
       "      <td>249.659259</td>\n",
       "      <td>51.686237</td>\n",
       "      <td>126.0</td>\n",
       "      <td>213.0</td>\n",
       "      <td>245.0</td>\n",
       "      <td>280.0</td>\n",
       "      <td>564.0</td>\n",
       "    </tr>\n",
       "    <tr>\n",
       "      <th>FBS over 120</th>\n",
       "      <td>270.0</td>\n",
       "      <td>0.148148</td>\n",
       "      <td>0.355906</td>\n",
       "      <td>0.0</td>\n",
       "      <td>0.0</td>\n",
       "      <td>0.0</td>\n",
       "      <td>0.0</td>\n",
       "      <td>1.0</td>\n",
       "    </tr>\n",
       "    <tr>\n",
       "      <th>EKG results</th>\n",
       "      <td>270.0</td>\n",
       "      <td>1.022222</td>\n",
       "      <td>0.997891</td>\n",
       "      <td>0.0</td>\n",
       "      <td>0.0</td>\n",
       "      <td>2.0</td>\n",
       "      <td>2.0</td>\n",
       "      <td>2.0</td>\n",
       "    </tr>\n",
       "    <tr>\n",
       "      <th>Max HR</th>\n",
       "      <td>270.0</td>\n",
       "      <td>149.677778</td>\n",
       "      <td>23.165717</td>\n",
       "      <td>71.0</td>\n",
       "      <td>133.0</td>\n",
       "      <td>153.5</td>\n",
       "      <td>166.0</td>\n",
       "      <td>202.0</td>\n",
       "    </tr>\n",
       "    <tr>\n",
       "      <th>Exercise angina</th>\n",
       "      <td>270.0</td>\n",
       "      <td>0.329630</td>\n",
       "      <td>0.470952</td>\n",
       "      <td>0.0</td>\n",
       "      <td>0.0</td>\n",
       "      <td>0.0</td>\n",
       "      <td>1.0</td>\n",
       "      <td>1.0</td>\n",
       "    </tr>\n",
       "    <tr>\n",
       "      <th>ST depression</th>\n",
       "      <td>270.0</td>\n",
       "      <td>1.050000</td>\n",
       "      <td>1.145210</td>\n",
       "      <td>0.0</td>\n",
       "      <td>0.0</td>\n",
       "      <td>0.8</td>\n",
       "      <td>1.6</td>\n",
       "      <td>6.2</td>\n",
       "    </tr>\n",
       "    <tr>\n",
       "      <th>Slope of ST</th>\n",
       "      <td>270.0</td>\n",
       "      <td>1.585185</td>\n",
       "      <td>0.614390</td>\n",
       "      <td>1.0</td>\n",
       "      <td>1.0</td>\n",
       "      <td>2.0</td>\n",
       "      <td>2.0</td>\n",
       "      <td>3.0</td>\n",
       "    </tr>\n",
       "    <tr>\n",
       "      <th>Number of vessels fluro</th>\n",
       "      <td>270.0</td>\n",
       "      <td>0.670370</td>\n",
       "      <td>0.943896</td>\n",
       "      <td>0.0</td>\n",
       "      <td>0.0</td>\n",
       "      <td>0.0</td>\n",
       "      <td>1.0</td>\n",
       "      <td>3.0</td>\n",
       "    </tr>\n",
       "    <tr>\n",
       "      <th>Thallium</th>\n",
       "      <td>270.0</td>\n",
       "      <td>4.696296</td>\n",
       "      <td>1.940659</td>\n",
       "      <td>3.0</td>\n",
       "      <td>3.0</td>\n",
       "      <td>3.0</td>\n",
       "      <td>7.0</td>\n",
       "      <td>7.0</td>\n",
       "    </tr>\n",
       "  </tbody>\n",
       "</table>\n",
       "</div>"
      ],
      "text/plain": [
       "                         count        mean        std    min    25%    50%  \\\n",
       "Age                      270.0   54.433333   9.109067   29.0   48.0   55.0   \n",
       "Sex                      270.0    0.677778   0.468195    0.0    0.0    1.0   \n",
       "Chest pain type          270.0    3.174074   0.950090    1.0    3.0    3.0   \n",
       "BP                       270.0  131.344444  17.861608   94.0  120.0  130.0   \n",
       "Cholesterol              270.0  249.659259  51.686237  126.0  213.0  245.0   \n",
       "FBS over 120             270.0    0.148148   0.355906    0.0    0.0    0.0   \n",
       "EKG results              270.0    1.022222   0.997891    0.0    0.0    2.0   \n",
       "Max HR                   270.0  149.677778  23.165717   71.0  133.0  153.5   \n",
       "Exercise angina          270.0    0.329630   0.470952    0.0    0.0    0.0   \n",
       "ST depression            270.0    1.050000   1.145210    0.0    0.0    0.8   \n",
       "Slope of ST              270.0    1.585185   0.614390    1.0    1.0    2.0   \n",
       "Number of vessels fluro  270.0    0.670370   0.943896    0.0    0.0    0.0   \n",
       "Thallium                 270.0    4.696296   1.940659    3.0    3.0    3.0   \n",
       "\n",
       "                           75%    max  \n",
       "Age                       61.0   77.0  \n",
       "Sex                        1.0    1.0  \n",
       "Chest pain type            4.0    4.0  \n",
       "BP                       140.0  200.0  \n",
       "Cholesterol              280.0  564.0  \n",
       "FBS over 120               0.0    1.0  \n",
       "EKG results                2.0    2.0  \n",
       "Max HR                   166.0  202.0  \n",
       "Exercise angina            1.0    1.0  \n",
       "ST depression              1.6    6.2  \n",
       "Slope of ST                2.0    3.0  \n",
       "Number of vessels fluro    1.0    3.0  \n",
       "Thallium                   7.0    7.0  "
      ]
     },
     "execution_count": 5,
     "metadata": {},
     "output_type": "execute_result"
    }
   ],
   "source": [
    "df.describe().T"
   ]
  },
  {
   "cell_type": "code",
   "execution_count": 6,
   "id": "424cc350",
   "metadata": {},
   "outputs": [
    {
     "data": {
      "text/plain": [
       "Age                        0\n",
       "Sex                        0\n",
       "Chest pain type            0\n",
       "BP                         0\n",
       "Cholesterol                0\n",
       "FBS over 120               0\n",
       "EKG results                0\n",
       "Max HR                     0\n",
       "Exercise angina            0\n",
       "ST depression              0\n",
       "Slope of ST                0\n",
       "Number of vessels fluro    0\n",
       "Thallium                   0\n",
       "Heart Disease              0\n",
       "dtype: int64"
      ]
     },
     "execution_count": 6,
     "metadata": {},
     "output_type": "execute_result"
    }
   ],
   "source": [
    "df.isnull().sum()"
   ]
  },
  {
   "cell_type": "code",
   "execution_count": 7,
   "id": "a117f7bb",
   "metadata": {},
   "outputs": [
    {
     "data": {
      "text/plain": [
       "0"
      ]
     },
     "execution_count": 7,
     "metadata": {},
     "output_type": "execute_result"
    }
   ],
   "source": [
    "df.duplicated().sum()"
   ]
  },
  {
   "cell_type": "code",
   "execution_count": 8,
   "id": "9b1ce70a",
   "metadata": {},
   "outputs": [],
   "source": [
    "#from sklearn.preprocessing import LabelEncoder"
   ]
  },
  {
   "cell_type": "code",
   "execution_count": 9,
   "id": "6f23f609",
   "metadata": {},
   "outputs": [],
   "source": [
    "#label_encoder = LabelEncoder()"
   ]
  },
  {
   "cell_type": "code",
   "execution_count": 10,
   "id": "389e86e6",
   "metadata": {},
   "outputs": [],
   "source": [
    "#label_encoder.fit(\"Heart Disease\")"
   ]
  },
  {
   "cell_type": "code",
   "execution_count": 11,
   "id": "42eba029",
   "metadata": {},
   "outputs": [],
   "source": [
    "#encoded_labels = label_encoder.transform(y)"
   ]
  },
  {
   "cell_type": "code",
   "execution_count": 12,
   "id": "9f0e4759",
   "metadata": {},
   "outputs": [],
   "source": [
    "#y"
   ]
  },
  {
   "cell_type": "code",
   "execution_count": 13,
   "id": "0aeaafd6",
   "metadata": {},
   "outputs": [],
   "source": [
    "#Heart_Disease = [\"Absence\", \"Presence\"]\n",
    "\n",
    "# Create a label encoder\n",
    "#label_encoder = LabelEncoder()\n",
    "\n",
    "# Fit the label encoder to the customer segments\n",
    "#label_encoder.fit(Heart_Disease)\n",
    "\n",
    "# Transform the customer segments into numerical labels\n",
    "#encoded_Heart_Disease = label_encoder.transform((Heart_Disease))\n",
    "\n",
    "# Print the encoded customer segments\n",
    "#print(encoded_Heart_Disease)"
   ]
  },
  {
   "cell_type": "code",
   "execution_count": 14,
   "id": "8a8e9bf1",
   "metadata": {},
   "outputs": [],
   "source": [
    "#df.head(5)"
   ]
  },
  {
   "cell_type": "code",
   "execution_count": 15,
   "id": "02e944bf",
   "metadata": {},
   "outputs": [],
   "source": [
    "#%python\n",
    "\n",
    "#ResultDf = df1.join(df, df1[\"summary\"] == df.id, \"inner\").select(df.id,df1[\"summary\"])"
   ]
  },
  {
   "cell_type": "code",
   "execution_count": 16,
   "id": "cdcd6768",
   "metadata": {},
   "outputs": [],
   "source": [
    "#df['Heart Disease'] = pd.to_numeric.df['Heart Disease']"
   ]
  },
  {
   "cell_type": "code",
   "execution_count": 17,
   "id": "1321d0c0",
   "metadata": {},
   "outputs": [],
   "source": [
    "#def heart_disease(x):\n",
    "    #if x == 'Absence':\n",
    "       # return 1\n",
    "   # else:\n",
    "      #  return 0"
   ]
  },
  {
   "cell_type": "code",
   "execution_count": 18,
   "id": "ce49c4b1",
   "metadata": {},
   "outputs": [],
   "source": [
    "#df['Heart Disease'] = pd.to_numeric.df['Heart Disease']"
   ]
  },
  {
   "cell_type": "code",
   "execution_count": 19,
   "id": "5a69aadb",
   "metadata": {},
   "outputs": [],
   "source": [
    "#df = df['Heart Disease'], heart_disease('Heart Disease')"
   ]
  },
  {
   "cell_type": "code",
   "execution_count": 20,
   "id": "0fd07994",
   "metadata": {},
   "outputs": [],
   "source": [
    "#df"
   ]
  },
  {
   "cell_type": "code",
   "execution_count": 21,
   "id": "cf2c95e7-684c-4143-a2c0-94a50afd7f12",
   "metadata": {},
   "outputs": [
    {
     "data": {
      "text/html": [
       "<div>\n",
       "<style scoped>\n",
       "    .dataframe tbody tr th:only-of-type {\n",
       "        vertical-align: middle;\n",
       "    }\n",
       "\n",
       "    .dataframe tbody tr th {\n",
       "        vertical-align: top;\n",
       "    }\n",
       "\n",
       "    .dataframe thead th {\n",
       "        text-align: right;\n",
       "    }\n",
       "</style>\n",
       "<table border=\"1\" class=\"dataframe\">\n",
       "  <thead>\n",
       "    <tr style=\"text-align: right;\">\n",
       "      <th></th>\n",
       "      <th>Age</th>\n",
       "      <th>Sex</th>\n",
       "      <th>Chest pain type</th>\n",
       "      <th>BP</th>\n",
       "      <th>Cholesterol</th>\n",
       "      <th>FBS over 120</th>\n",
       "      <th>EKG results</th>\n",
       "      <th>Max HR</th>\n",
       "      <th>Exercise angina</th>\n",
       "      <th>ST depression</th>\n",
       "      <th>Slope of ST</th>\n",
       "      <th>Number of vessels fluro</th>\n",
       "      <th>Thallium</th>\n",
       "      <th>Heart Disease</th>\n",
       "    </tr>\n",
       "  </thead>\n",
       "  <tbody>\n",
       "    <tr>\n",
       "      <th>0</th>\n",
       "      <td>70</td>\n",
       "      <td>1</td>\n",
       "      <td>4</td>\n",
       "      <td>130</td>\n",
       "      <td>322</td>\n",
       "      <td>0</td>\n",
       "      <td>2</td>\n",
       "      <td>109</td>\n",
       "      <td>0</td>\n",
       "      <td>2.4</td>\n",
       "      <td>2</td>\n",
       "      <td>3</td>\n",
       "      <td>3</td>\n",
       "      <td>Presence</td>\n",
       "    </tr>\n",
       "    <tr>\n",
       "      <th>1</th>\n",
       "      <td>67</td>\n",
       "      <td>0</td>\n",
       "      <td>3</td>\n",
       "      <td>115</td>\n",
       "      <td>564</td>\n",
       "      <td>0</td>\n",
       "      <td>2</td>\n",
       "      <td>160</td>\n",
       "      <td>0</td>\n",
       "      <td>1.6</td>\n",
       "      <td>2</td>\n",
       "      <td>0</td>\n",
       "      <td>7</td>\n",
       "      <td>Absence</td>\n",
       "    </tr>\n",
       "    <tr>\n",
       "      <th>2</th>\n",
       "      <td>57</td>\n",
       "      <td>1</td>\n",
       "      <td>2</td>\n",
       "      <td>124</td>\n",
       "      <td>261</td>\n",
       "      <td>0</td>\n",
       "      <td>0</td>\n",
       "      <td>141</td>\n",
       "      <td>0</td>\n",
       "      <td>0.3</td>\n",
       "      <td>1</td>\n",
       "      <td>0</td>\n",
       "      <td>7</td>\n",
       "      <td>Presence</td>\n",
       "    </tr>\n",
       "    <tr>\n",
       "      <th>3</th>\n",
       "      <td>64</td>\n",
       "      <td>1</td>\n",
       "      <td>4</td>\n",
       "      <td>128</td>\n",
       "      <td>263</td>\n",
       "      <td>0</td>\n",
       "      <td>0</td>\n",
       "      <td>105</td>\n",
       "      <td>1</td>\n",
       "      <td>0.2</td>\n",
       "      <td>2</td>\n",
       "      <td>1</td>\n",
       "      <td>7</td>\n",
       "      <td>Absence</td>\n",
       "    </tr>\n",
       "    <tr>\n",
       "      <th>4</th>\n",
       "      <td>74</td>\n",
       "      <td>0</td>\n",
       "      <td>2</td>\n",
       "      <td>120</td>\n",
       "      <td>269</td>\n",
       "      <td>0</td>\n",
       "      <td>2</td>\n",
       "      <td>121</td>\n",
       "      <td>1</td>\n",
       "      <td>0.2</td>\n",
       "      <td>1</td>\n",
       "      <td>1</td>\n",
       "      <td>3</td>\n",
       "      <td>Absence</td>\n",
       "    </tr>\n",
       "  </tbody>\n",
       "</table>\n",
       "</div>"
      ],
      "text/plain": [
       "   Age  Sex  Chest pain type   BP  Cholesterol  FBS over 120  EKG results  \\\n",
       "0   70    1                4  130          322             0            2   \n",
       "1   67    0                3  115          564             0            2   \n",
       "2   57    1                2  124          261             0            0   \n",
       "3   64    1                4  128          263             0            0   \n",
       "4   74    0                2  120          269             0            2   \n",
       "\n",
       "   Max HR  Exercise angina  ST depression  Slope of ST  \\\n",
       "0     109                0            2.4            2   \n",
       "1     160                0            1.6            2   \n",
       "2     141                0            0.3            1   \n",
       "3     105                1            0.2            2   \n",
       "4     121                1            0.2            1   \n",
       "\n",
       "   Number of vessels fluro  Thallium Heart Disease  \n",
       "0                        3         3      Presence  \n",
       "1                        0         7       Absence  \n",
       "2                        0         7      Presence  \n",
       "3                        1         7       Absence  \n",
       "4                        1         3       Absence  "
      ]
     },
     "execution_count": 21,
     "metadata": {},
     "output_type": "execute_result"
    }
   ],
   "source": [
    "df.head()"
   ]
  },
  {
   "cell_type": "code",
   "execution_count": 22,
   "id": "bce7fc8a-785e-4101-b899-ffe41cf46610",
   "metadata": {},
   "outputs": [],
   "source": [
    "def one_zero(x):\n",
    "    if x == 'Presence':\n",
    "        return 1\n",
    "    return 0"
   ]
  },
  {
   "cell_type": "code",
   "execution_count": 23,
   "id": "dad9ee00-c464-4f41-be94-9df8d5ce34cc",
   "metadata": {},
   "outputs": [],
   "source": [
    "df['Heart Disease'] = df['Heart Disease'].apply(one_zero)"
   ]
  },
  {
   "cell_type": "code",
   "execution_count": 24,
   "id": "8b268c0d-162a-4590-adab-d8e4c674ddab",
   "metadata": {},
   "outputs": [
    {
     "data": {
      "text/html": [
       "<div>\n",
       "<style scoped>\n",
       "    .dataframe tbody tr th:only-of-type {\n",
       "        vertical-align: middle;\n",
       "    }\n",
       "\n",
       "    .dataframe tbody tr th {\n",
       "        vertical-align: top;\n",
       "    }\n",
       "\n",
       "    .dataframe thead th {\n",
       "        text-align: right;\n",
       "    }\n",
       "</style>\n",
       "<table border=\"1\" class=\"dataframe\">\n",
       "  <thead>\n",
       "    <tr style=\"text-align: right;\">\n",
       "      <th></th>\n",
       "      <th>Age</th>\n",
       "      <th>Sex</th>\n",
       "      <th>Chest pain type</th>\n",
       "      <th>BP</th>\n",
       "      <th>Cholesterol</th>\n",
       "      <th>FBS over 120</th>\n",
       "      <th>EKG results</th>\n",
       "      <th>Max HR</th>\n",
       "      <th>Exercise angina</th>\n",
       "      <th>ST depression</th>\n",
       "      <th>Slope of ST</th>\n",
       "      <th>Number of vessels fluro</th>\n",
       "      <th>Thallium</th>\n",
       "      <th>Heart Disease</th>\n",
       "    </tr>\n",
       "  </thead>\n",
       "  <tbody>\n",
       "    <tr>\n",
       "      <th>0</th>\n",
       "      <td>70</td>\n",
       "      <td>1</td>\n",
       "      <td>4</td>\n",
       "      <td>130</td>\n",
       "      <td>322</td>\n",
       "      <td>0</td>\n",
       "      <td>2</td>\n",
       "      <td>109</td>\n",
       "      <td>0</td>\n",
       "      <td>2.4</td>\n",
       "      <td>2</td>\n",
       "      <td>3</td>\n",
       "      <td>3</td>\n",
       "      <td>1</td>\n",
       "    </tr>\n",
       "    <tr>\n",
       "      <th>1</th>\n",
       "      <td>67</td>\n",
       "      <td>0</td>\n",
       "      <td>3</td>\n",
       "      <td>115</td>\n",
       "      <td>564</td>\n",
       "      <td>0</td>\n",
       "      <td>2</td>\n",
       "      <td>160</td>\n",
       "      <td>0</td>\n",
       "      <td>1.6</td>\n",
       "      <td>2</td>\n",
       "      <td>0</td>\n",
       "      <td>7</td>\n",
       "      <td>0</td>\n",
       "    </tr>\n",
       "    <tr>\n",
       "      <th>2</th>\n",
       "      <td>57</td>\n",
       "      <td>1</td>\n",
       "      <td>2</td>\n",
       "      <td>124</td>\n",
       "      <td>261</td>\n",
       "      <td>0</td>\n",
       "      <td>0</td>\n",
       "      <td>141</td>\n",
       "      <td>0</td>\n",
       "      <td>0.3</td>\n",
       "      <td>1</td>\n",
       "      <td>0</td>\n",
       "      <td>7</td>\n",
       "      <td>1</td>\n",
       "    </tr>\n",
       "    <tr>\n",
       "      <th>3</th>\n",
       "      <td>64</td>\n",
       "      <td>1</td>\n",
       "      <td>4</td>\n",
       "      <td>128</td>\n",
       "      <td>263</td>\n",
       "      <td>0</td>\n",
       "      <td>0</td>\n",
       "      <td>105</td>\n",
       "      <td>1</td>\n",
       "      <td>0.2</td>\n",
       "      <td>2</td>\n",
       "      <td>1</td>\n",
       "      <td>7</td>\n",
       "      <td>0</td>\n",
       "    </tr>\n",
       "    <tr>\n",
       "      <th>4</th>\n",
       "      <td>74</td>\n",
       "      <td>0</td>\n",
       "      <td>2</td>\n",
       "      <td>120</td>\n",
       "      <td>269</td>\n",
       "      <td>0</td>\n",
       "      <td>2</td>\n",
       "      <td>121</td>\n",
       "      <td>1</td>\n",
       "      <td>0.2</td>\n",
       "      <td>1</td>\n",
       "      <td>1</td>\n",
       "      <td>3</td>\n",
       "      <td>0</td>\n",
       "    </tr>\n",
       "  </tbody>\n",
       "</table>\n",
       "</div>"
      ],
      "text/plain": [
       "   Age  Sex  Chest pain type   BP  Cholesterol  FBS over 120  EKG results  \\\n",
       "0   70    1                4  130          322             0            2   \n",
       "1   67    0                3  115          564             0            2   \n",
       "2   57    1                2  124          261             0            0   \n",
       "3   64    1                4  128          263             0            0   \n",
       "4   74    0                2  120          269             0            2   \n",
       "\n",
       "   Max HR  Exercise angina  ST depression  Slope of ST  \\\n",
       "0     109                0            2.4            2   \n",
       "1     160                0            1.6            2   \n",
       "2     141                0            0.3            1   \n",
       "3     105                1            0.2            2   \n",
       "4     121                1            0.2            1   \n",
       "\n",
       "   Number of vessels fluro  Thallium  Heart Disease  \n",
       "0                        3         3              1  \n",
       "1                        0         7              0  \n",
       "2                        0         7              1  \n",
       "3                        1         7              0  \n",
       "4                        1         3              0  "
      ]
     },
     "execution_count": 24,
     "metadata": {},
     "output_type": "execute_result"
    }
   ],
   "source": [
    "df.head()"
   ]
  },
  {
   "cell_type": "code",
   "execution_count": 25,
   "id": "5dcc4ba7-31cf-4561-904d-8004d8baac30",
   "metadata": {},
   "outputs": [
    {
     "data": {
      "text/html": [
       "<style type=\"text/css\">\n",
       "#T_46420_row0_col0, #T_46420_row1_col1, #T_46420_row2_col2, #T_46420_row3_col3, #T_46420_row4_col4, #T_46420_row5_col5, #T_46420_row6_col6, #T_46420_row7_col7, #T_46420_row8_col8, #T_46420_row9_col9, #T_46420_row10_col10, #T_46420_row11_col11, #T_46420_row12_col12, #T_46420_row13_col13 {\n",
       "  background-color: #023858;\n",
       "  color: #f1f1f1;\n",
       "}\n",
       "#T_46420_row0_col1, #T_46420_row8_col5 {\n",
       "  background-color: #f2ecf5;\n",
       "  color: #000000;\n",
       "}\n",
       "#T_46420_row0_col2, #T_46420_row0_col3, #T_46420_row1_col10 {\n",
       "  background-color: #bbc7e0;\n",
       "  color: #000000;\n",
       "}\n",
       "#T_46420_row0_col4, #T_46420_row6_col9 {\n",
       "  background-color: #afc1dd;\n",
       "  color: #000000;\n",
       "}\n",
       "#T_46420_row0_col5, #T_46420_row5_col1, #T_46420_row6_col1, #T_46420_row11_col5 {\n",
       "  background-color: #dbdaeb;\n",
       "  color: #000000;\n",
       "}\n",
       "#T_46420_row0_col6, #T_46420_row5_col4, #T_46420_row9_col4 {\n",
       "  background-color: #dedcec;\n",
       "  color: #000000;\n",
       "}\n",
       "#T_46420_row0_col7 {\n",
       "  background-color: #fef6fa;\n",
       "  color: #000000;\n",
       "}\n",
       "#T_46420_row0_col8, #T_46420_row6_col8, #T_46420_row10_col2 {\n",
       "  background-color: #b0c2de;\n",
       "  color: #000000;\n",
       "}\n",
       "#T_46420_row0_col9, #T_46420_row1_col8, #T_46420_row3_col13, #T_46420_row11_col12 {\n",
       "  background-color: #9ab8d8;\n",
       "  color: #000000;\n",
       "}\n",
       "#T_46420_row0_col10 {\n",
       "  background-color: #9fbad9;\n",
       "  color: #000000;\n",
       "}\n",
       "#T_46420_row0_col11 {\n",
       "  background-color: #78abd0;\n",
       "  color: #f1f1f1;\n",
       "}\n",
       "#T_46420_row0_col12 {\n",
       "  background-color: #c4cbe3;\n",
       "  color: #000000;\n",
       "}\n",
       "#T_46420_row0_col13, #T_46420_row4_col0 {\n",
       "  background-color: #8bb2d4;\n",
       "  color: #000000;\n",
       "}\n",
       "#T_46420_row1_col0, #T_46420_row4_col3, #T_46420_row10_col6 {\n",
       "  background-color: #d7d6e9;\n",
       "  color: #000000;\n",
       "}\n",
       "#T_46420_row1_col2, #T_46420_row3_col7, #T_46420_row9_col3, #T_46420_row13_col4 {\n",
       "  background-color: #cacee5;\n",
       "  color: #000000;\n",
       "}\n",
       "#T_46420_row1_col3, #T_46420_row1_col4, #T_46420_row2_col5, #T_46420_row4_col1, #T_46420_row7_col0, #T_46420_row7_col2, #T_46420_row7_col6, #T_46420_row7_col8, #T_46420_row7_col9, #T_46420_row7_col10, #T_46420_row7_col11, #T_46420_row7_col12, #T_46420_row7_col13, #T_46420_row13_col7 {\n",
       "  background-color: #fff7fb;\n",
       "  color: #000000;\n",
       "}\n",
       "#T_46420_row1_col5 {\n",
       "  background-color: #ece7f2;\n",
       "  color: #000000;\n",
       "}\n",
       "#T_46420_row1_col6, #T_46420_row11_col7 {\n",
       "  background-color: #efe9f3;\n",
       "  color: #000000;\n",
       "}\n",
       "#T_46420_row1_col7, #T_46420_row5_col9, #T_46420_row5_col12, #T_46420_row11_col1, #T_46420_row13_col6 {\n",
       "  background-color: #d2d3e7;\n",
       "  color: #000000;\n",
       "}\n",
       "#T_46420_row1_col9, #T_46420_row8_col11 {\n",
       "  background-color: #b5c4df;\n",
       "  color: #000000;\n",
       "}\n",
       "#T_46420_row1_col11, #T_46420_row3_col11, #T_46420_row4_col9 {\n",
       "  background-color: #c6cce3;\n",
       "  color: #000000;\n",
       "}\n",
       "#T_46420_row1_col12 {\n",
       "  background-color: #6da6cd;\n",
       "  color: #f1f1f1;\n",
       "}\n",
       "#T_46420_row1_col13 {\n",
       "  background-color: #71a8ce;\n",
       "  color: #f1f1f1;\n",
       "}\n",
       "#T_46420_row2_col0, #T_46420_row8_col0, #T_46420_row11_col10 {\n",
       "  background-color: #acc0dd;\n",
       "  color: #000000;\n",
       "}\n",
       "#T_46420_row2_col1 {\n",
       "  background-color: #dcdaeb;\n",
       "  color: #000000;\n",
       "}\n",
       "#T_46420_row2_col3 {\n",
       "  background-color: #fdf5fa;\n",
       "  color: #000000;\n",
       "}\n",
       "#T_46420_row2_col4, #T_46420_row6_col7 {\n",
       "  background-color: #d2d2e7;\n",
       "  color: #000000;\n",
       "}\n",
       "#T_46420_row2_col6, #T_46420_row6_col5, #T_46420_row8_col3, #T_46420_row11_col3 {\n",
       "  background-color: #e9e5f1;\n",
       "  color: #000000;\n",
       "}\n",
       "#T_46420_row2_col7 {\n",
       "  background-color: #f4eef6;\n",
       "  color: #000000;\n",
       "}\n",
       "#T_46420_row2_col8, #T_46420_row10_col13 {\n",
       "  background-color: #63a2cb;\n",
       "  color: #f1f1f1;\n",
       "}\n",
       "#T_46420_row2_col9, #T_46420_row3_col10 {\n",
       "  background-color: #a4bcda;\n",
       "  color: #000000;\n",
       "}\n",
       "#T_46420_row2_col10, #T_46420_row4_col13, #T_46420_row6_col0 {\n",
       "  background-color: #a5bddb;\n",
       "  color: #000000;\n",
       "}\n",
       "#T_46420_row2_col11, #T_46420_row11_col8 {\n",
       "  background-color: #a1bbda;\n",
       "  color: #000000;\n",
       "}\n",
       "#T_46420_row2_col12, #T_46420_row9_col11, #T_46420_row11_col2, #T_46420_row12_col11 {\n",
       "  background-color: #97b7d7;\n",
       "  color: #000000;\n",
       "}\n",
       "#T_46420_row2_col13, #T_46420_row9_col13 {\n",
       "  background-color: #4897c4;\n",
       "  color: #f1f1f1;\n",
       "}\n",
       "#T_46420_row3_col0, #T_46420_row12_col10 {\n",
       "  background-color: #7bacd1;\n",
       "  color: #f1f1f1;\n",
       "}\n",
       "#T_46420_row3_col1, #T_46420_row12_col7 {\n",
       "  background-color: #eee8f3;\n",
       "  color: #000000;\n",
       "}\n",
       "#T_46420_row3_col2, #T_46420_row6_col12, #T_46420_row10_col1 {\n",
       "  background-color: #d9d8ea;\n",
       "  color: #000000;\n",
       "}\n",
       "#T_46420_row3_col4, #T_46420_row4_col2, #T_46420_row4_col11, #T_46420_row5_col7, #T_46420_row5_col10 {\n",
       "  background-color: #bcc7e1;\n",
       "  color: #000000;\n",
       "}\n",
       "#T_46420_row3_col5, #T_46420_row8_col4 {\n",
       "  background-color: #d4d4e8;\n",
       "  color: #000000;\n",
       "}\n",
       "#T_46420_row3_col6, #T_46420_row11_col6 {\n",
       "  background-color: #e0deed;\n",
       "  color: #000000;\n",
       "}\n",
       "#T_46420_row3_col8, #T_46420_row4_col8 {\n",
       "  background-color: #b4c4df;\n",
       "  color: #000000;\n",
       "}\n",
       "#T_46420_row3_col9, #T_46420_row6_col13, #T_46420_row9_col0 {\n",
       "  background-color: #93b5d6;\n",
       "  color: #000000;\n",
       "}\n",
       "#T_46420_row3_col12, #T_46420_row5_col11, #T_46420_row6_col4 {\n",
       "  background-color: #bdc8e1;\n",
       "  color: #000000;\n",
       "}\n",
       "#T_46420_row4_col5, #T_46420_row7_col5 {\n",
       "  background-color: #eee9f3;\n",
       "  color: #000000;\n",
       "}\n",
       "#T_46420_row4_col6, #T_46420_row4_col12 {\n",
       "  background-color: #d6d6e9;\n",
       "  color: #000000;\n",
       "}\n",
       "#T_46420_row4_col7, #T_46420_row5_col13 {\n",
       "  background-color: #c5cce3;\n",
       "  color: #000000;\n",
       "}\n",
       "#T_46420_row4_col10 {\n",
       "  background-color: #c8cde4;\n",
       "  color: #000000;\n",
       "}\n",
       "#T_46420_row5_col0 {\n",
       "  background-color: #a7bddb;\n",
       "  color: #000000;\n",
       "}\n",
       "#T_46420_row5_col2 {\n",
       "  background-color: #e3e0ee;\n",
       "  color: #000000;\n",
       "}\n",
       "#T_46420_row5_col3, #T_46420_row13_col3 {\n",
       "  background-color: #dad9ea;\n",
       "  color: #000000;\n",
       "}\n",
       "#T_46420_row5_col6 {\n",
       "  background-color: #ede8f3;\n",
       "  color: #000000;\n",
       "}\n",
       "#T_46420_row5_col8, #T_46420_row11_col4 {\n",
       "  background-color: #c9cee4;\n",
       "  color: #000000;\n",
       "}\n",
       "#T_46420_row6_col2, #T_46420_row6_col11 {\n",
       "  background-color: #c0c9e2;\n",
       "  color: #000000;\n",
       "}\n",
       "#T_46420_row6_col3 {\n",
       "  background-color: #e2dfee;\n",
       "  color: #000000;\n",
       "}\n",
       "#T_46420_row6_col10 {\n",
       "  background-color: #9ebad9;\n",
       "  color: #000000;\n",
       "}\n",
       "#T_46420_row7_col1 {\n",
       "  background-color: #f0eaf4;\n",
       "  color: #000000;\n",
       "}\n",
       "#T_46420_row7_col3, #T_46420_row10_col7 {\n",
       "  background-color: #fcf4fa;\n",
       "  color: #000000;\n",
       "}\n",
       "#T_46420_row7_col4 {\n",
       "  background-color: #e7e3f0;\n",
       "  color: #000000;\n",
       "}\n",
       "#T_46420_row8_col1 {\n",
       "  background-color: #b9c6e0;\n",
       "  color: #000000;\n",
       "}\n",
       "#T_46420_row8_col2, #T_46420_row12_col8 {\n",
       "  background-color: #6fa7ce;\n",
       "  color: #f1f1f1;\n",
       "}\n",
       "#T_46420_row8_col6 {\n",
       "  background-color: #e5e1ef;\n",
       "  color: #000000;\n",
       "}\n",
       "#T_46420_row8_col7 {\n",
       "  background-color: #fbf4f9;\n",
       "  color: #000000;\n",
       "}\n",
       "#T_46420_row8_col9, #T_46420_row8_col10, #T_46420_row10_col8 {\n",
       "  background-color: #83afd3;\n",
       "  color: #f1f1f1;\n",
       "}\n",
       "#T_46420_row8_col12, #T_46420_row9_col12 {\n",
       "  background-color: #84b0d3;\n",
       "  color: #f1f1f1;\n",
       "}\n",
       "#T_46420_row8_col13 {\n",
       "  background-color: #4697c4;\n",
       "  color: #f1f1f1;\n",
       "}\n",
       "#T_46420_row9_col1 {\n",
       "  background-color: #d1d2e6;\n",
       "  color: #000000;\n",
       "}\n",
       "#T_46420_row9_col2 {\n",
       "  background-color: #a8bedc;\n",
       "  color: #000000;\n",
       "}\n",
       "#T_46420_row9_col5 {\n",
       "  background-color: #f5eef6;\n",
       "  color: #000000;\n",
       "}\n",
       "#T_46420_row9_col6, #T_46420_row12_col3 {\n",
       "  background-color: #e0dded;\n",
       "  color: #000000;\n",
       "}\n",
       "#T_46420_row9_col7 {\n",
       "  background-color: #f8f1f8;\n",
       "  color: #000000;\n",
       "}\n",
       "#T_46420_row9_col8 {\n",
       "  background-color: #7eadd1;\n",
       "  color: #f1f1f1;\n",
       "}\n",
       "#T_46420_row9_col10 {\n",
       "  background-color: #1278b4;\n",
       "  color: #f1f1f1;\n",
       "}\n",
       "#T_46420_row10_col0 {\n",
       "  background-color: #9cb9d9;\n",
       "  color: #000000;\n",
       "}\n",
       "#T_46420_row10_col3, #T_46420_row12_col4 {\n",
       "  background-color: #dddbec;\n",
       "  color: #000000;\n",
       "}\n",
       "#T_46420_row10_col4 {\n",
       "  background-color: #e4e1ef;\n",
       "  color: #000000;\n",
       "}\n",
       "#T_46420_row10_col5 {\n",
       "  background-color: #ebe6f2;\n",
       "  color: #000000;\n",
       "}\n",
       "#T_46420_row10_col9 {\n",
       "  background-color: #157ab5;\n",
       "  color: #f1f1f1;\n",
       "}\n",
       "#T_46420_row10_col11 {\n",
       "  background-color: #c1cae2;\n",
       "  color: #000000;\n",
       "}\n",
       "#T_46420_row10_col12 {\n",
       "  background-color: #91b5d6;\n",
       "  color: #000000;\n",
       "}\n",
       "#T_46420_row11_col0 {\n",
       "  background-color: #60a1ca;\n",
       "  color: #f1f1f1;\n",
       "}\n",
       "#T_46420_row11_col9 {\n",
       "  background-color: #89b1d4;\n",
       "  color: #000000;\n",
       "}\n",
       "#T_46420_row11_col13 {\n",
       "  background-color: #3b92c1;\n",
       "  color: #f1f1f1;\n",
       "}\n",
       "#T_46420_row12_col0 {\n",
       "  background-color: #abbfdc;\n",
       "  color: #000000;\n",
       "}\n",
       "#T_46420_row12_col1 {\n",
       "  background-color: #76aad0;\n",
       "  color: #f1f1f1;\n",
       "}\n",
       "#T_46420_row12_col2, #T_46420_row13_col0 {\n",
       "  background-color: #8cb3d5;\n",
       "  color: #000000;\n",
       "}\n",
       "#T_46420_row12_col5 {\n",
       "  background-color: #eae6f1;\n",
       "  color: #000000;\n",
       "}\n",
       "#T_46420_row12_col6, #T_46420_row13_col5 {\n",
       "  background-color: #f4edf6;\n",
       "  color: #000000;\n",
       "}\n",
       "#T_46420_row12_col9 {\n",
       "  background-color: #75a9cf;\n",
       "  color: #f1f1f1;\n",
       "}\n",
       "#T_46420_row12_col13 {\n",
       "  background-color: #2685bb;\n",
       "  color: #f1f1f1;\n",
       "}\n",
       "#T_46420_row13_col1 {\n",
       "  background-color: #96b6d7;\n",
       "  color: #000000;\n",
       "}\n",
       "#T_46420_row13_col2 {\n",
       "  background-color: #589ec8;\n",
       "  color: #f1f1f1;\n",
       "}\n",
       "#T_46420_row13_col8 {\n",
       "  background-color: #4c99c5;\n",
       "  color: #f1f1f1;\n",
       "}\n",
       "#T_46420_row13_col9, #T_46420_row13_col11 {\n",
       "  background-color: #529bc7;\n",
       "  color: #f1f1f1;\n",
       "}\n",
       "#T_46420_row13_col10 {\n",
       "  background-color: #69a5cc;\n",
       "  color: #f1f1f1;\n",
       "}\n",
       "#T_46420_row13_col12 {\n",
       "  background-color: #3991c1;\n",
       "  color: #f1f1f1;\n",
       "}\n",
       "</style>\n",
       "<table id=\"T_46420\">\n",
       "  <thead>\n",
       "    <tr>\n",
       "      <th class=\"blank level0\" >&nbsp;</th>\n",
       "      <th id=\"T_46420_level0_col0\" class=\"col_heading level0 col0\" >Age</th>\n",
       "      <th id=\"T_46420_level0_col1\" class=\"col_heading level0 col1\" >Sex</th>\n",
       "      <th id=\"T_46420_level0_col2\" class=\"col_heading level0 col2\" >Chest pain type</th>\n",
       "      <th id=\"T_46420_level0_col3\" class=\"col_heading level0 col3\" >BP</th>\n",
       "      <th id=\"T_46420_level0_col4\" class=\"col_heading level0 col4\" >Cholesterol</th>\n",
       "      <th id=\"T_46420_level0_col5\" class=\"col_heading level0 col5\" >FBS over 120</th>\n",
       "      <th id=\"T_46420_level0_col6\" class=\"col_heading level0 col6\" >EKG results</th>\n",
       "      <th id=\"T_46420_level0_col7\" class=\"col_heading level0 col7\" >Max HR</th>\n",
       "      <th id=\"T_46420_level0_col8\" class=\"col_heading level0 col8\" >Exercise angina</th>\n",
       "      <th id=\"T_46420_level0_col9\" class=\"col_heading level0 col9\" >ST depression</th>\n",
       "      <th id=\"T_46420_level0_col10\" class=\"col_heading level0 col10\" >Slope of ST</th>\n",
       "      <th id=\"T_46420_level0_col11\" class=\"col_heading level0 col11\" >Number of vessels fluro</th>\n",
       "      <th id=\"T_46420_level0_col12\" class=\"col_heading level0 col12\" >Thallium</th>\n",
       "      <th id=\"T_46420_level0_col13\" class=\"col_heading level0 col13\" >Heart Disease</th>\n",
       "    </tr>\n",
       "  </thead>\n",
       "  <tbody>\n",
       "    <tr>\n",
       "      <th id=\"T_46420_level0_row0\" class=\"row_heading level0 row0\" >Age</th>\n",
       "      <td id=\"T_46420_row0_col0\" class=\"data row0 col0\" >1.000000</td>\n",
       "      <td id=\"T_46420_row0_col1\" class=\"data row0 col1\" >-0.094401</td>\n",
       "      <td id=\"T_46420_row0_col2\" class=\"data row0 col2\" >0.096920</td>\n",
       "      <td id=\"T_46420_row0_col3\" class=\"data row0 col3\" >0.273053</td>\n",
       "      <td id=\"T_46420_row0_col4\" class=\"data row0 col4\" >0.220056</td>\n",
       "      <td id=\"T_46420_row0_col5\" class=\"data row0 col5\" >0.123458</td>\n",
       "      <td id=\"T_46420_row0_col6\" class=\"data row0 col6\" >0.128171</td>\n",
       "      <td id=\"T_46420_row0_col7\" class=\"data row0 col7\" >-0.402215</td>\n",
       "      <td id=\"T_46420_row0_col8\" class=\"data row0 col8\" >0.098297</td>\n",
       "      <td id=\"T_46420_row0_col9\" class=\"data row0 col9\" >0.194234</td>\n",
       "      <td id=\"T_46420_row0_col10\" class=\"data row0 col10\" >0.159774</td>\n",
       "      <td id=\"T_46420_row0_col11\" class=\"data row0 col11\" >0.356081</td>\n",
       "      <td id=\"T_46420_row0_col12\" class=\"data row0 col12\" >0.106100</td>\n",
       "      <td id=\"T_46420_row0_col13\" class=\"data row0 col13\" >0.212322</td>\n",
       "    </tr>\n",
       "    <tr>\n",
       "      <th id=\"T_46420_level0_row1\" class=\"row_heading level0 row1\" >Sex</th>\n",
       "      <td id=\"T_46420_row1_col0\" class=\"data row1 col0\" >-0.094401</td>\n",
       "      <td id=\"T_46420_row1_col1\" class=\"data row1 col1\" >1.000000</td>\n",
       "      <td id=\"T_46420_row1_col2\" class=\"data row1 col2\" >0.034636</td>\n",
       "      <td id=\"T_46420_row1_col3\" class=\"data row1 col3\" >-0.062693</td>\n",
       "      <td id=\"T_46420_row1_col4\" class=\"data row1 col4\" >-0.201647</td>\n",
       "      <td id=\"T_46420_row1_col5\" class=\"data row1 col5\" >0.042140</td>\n",
       "      <td id=\"T_46420_row1_col6\" class=\"data row1 col6\" >0.039253</td>\n",
       "      <td id=\"T_46420_row1_col7\" class=\"data row1 col7\" >-0.076101</td>\n",
       "      <td id=\"T_46420_row1_col8\" class=\"data row1 col8\" >0.180022</td>\n",
       "      <td id=\"T_46420_row1_col9\" class=\"data row1 col9\" >0.097412</td>\n",
       "      <td id=\"T_46420_row1_col10\" class=\"data row1 col10\" >0.050545</td>\n",
       "      <td id=\"T_46420_row1_col11\" class=\"data row1 col11\" >0.086830</td>\n",
       "      <td id=\"T_46420_row1_col12\" class=\"data row1 col12\" >0.391046</td>\n",
       "      <td id=\"T_46420_row1_col13\" class=\"data row1 col13\" >0.297721</td>\n",
       "    </tr>\n",
       "    <tr>\n",
       "      <th id=\"T_46420_level0_row2\" class=\"row_heading level0 row2\" >Chest pain type</th>\n",
       "      <td id=\"T_46420_row2_col0\" class=\"data row2 col0\" >0.096920</td>\n",
       "      <td id=\"T_46420_row2_col1\" class=\"data row2 col1\" >0.034636</td>\n",
       "      <td id=\"T_46420_row2_col2\" class=\"data row2 col2\" >1.000000</td>\n",
       "      <td id=\"T_46420_row2_col3\" class=\"data row2 col3\" >-0.043196</td>\n",
       "      <td id=\"T_46420_row2_col4\" class=\"data row2 col4\" >0.090465</td>\n",
       "      <td id=\"T_46420_row2_col5\" class=\"data row2 col5\" >-0.098537</td>\n",
       "      <td id=\"T_46420_row2_col6\" class=\"data row2 col6\" >0.074325</td>\n",
       "      <td id=\"T_46420_row2_col7\" class=\"data row2 col7\" >-0.317682</td>\n",
       "      <td id=\"T_46420_row2_col8\" class=\"data row2 col8\" >0.353160</td>\n",
       "      <td id=\"T_46420_row2_col9\" class=\"data row2 col9\" >0.167244</td>\n",
       "      <td id=\"T_46420_row2_col10\" class=\"data row2 col10\" >0.136900</td>\n",
       "      <td id=\"T_46420_row2_col11\" class=\"data row2 col11\" >0.225890</td>\n",
       "      <td id=\"T_46420_row2_col12\" class=\"data row2 col12\" >0.262659</td>\n",
       "      <td id=\"T_46420_row2_col13\" class=\"data row2 col13\" >0.417436</td>\n",
       "    </tr>\n",
       "    <tr>\n",
       "      <th id=\"T_46420_level0_row3\" class=\"row_heading level0 row3\" >BP</th>\n",
       "      <td id=\"T_46420_row3_col0\" class=\"data row3 col0\" >0.273053</td>\n",
       "      <td id=\"T_46420_row3_col1\" class=\"data row3 col1\" >-0.062693</td>\n",
       "      <td id=\"T_46420_row3_col2\" class=\"data row3 col2\" >-0.043196</td>\n",
       "      <td id=\"T_46420_row3_col3\" class=\"data row3 col3\" >1.000000</td>\n",
       "      <td id=\"T_46420_row3_col4\" class=\"data row3 col4\" >0.173019</td>\n",
       "      <td id=\"T_46420_row3_col5\" class=\"data row3 col5\" >0.155681</td>\n",
       "      <td id=\"T_46420_row3_col6\" class=\"data row3 col6\" >0.116157</td>\n",
       "      <td id=\"T_46420_row3_col7\" class=\"data row3 col7\" >-0.039136</td>\n",
       "      <td id=\"T_46420_row3_col8\" class=\"data row3 col8\" >0.082793</td>\n",
       "      <td id=\"T_46420_row3_col9\" class=\"data row3 col9\" >0.222800</td>\n",
       "      <td id=\"T_46420_row3_col10\" class=\"data row3 col10\" >0.142472</td>\n",
       "      <td id=\"T_46420_row3_col11\" class=\"data row3 col11\" >0.085697</td>\n",
       "      <td id=\"T_46420_row3_col12\" class=\"data row3 col12\" >0.132045</td>\n",
       "      <td id=\"T_46420_row3_col13\" class=\"data row3 col13\" >0.155383</td>\n",
       "    </tr>\n",
       "    <tr>\n",
       "      <th id=\"T_46420_level0_row4\" class=\"row_heading level0 row4\" >Cholesterol</th>\n",
       "      <td id=\"T_46420_row4_col0\" class=\"data row4 col0\" >0.220056</td>\n",
       "      <td id=\"T_46420_row4_col1\" class=\"data row4 col1\" >-0.201647</td>\n",
       "      <td id=\"T_46420_row4_col2\" class=\"data row4 col2\" >0.090465</td>\n",
       "      <td id=\"T_46420_row4_col3\" class=\"data row4 col3\" >0.173019</td>\n",
       "      <td id=\"T_46420_row4_col4\" class=\"data row4 col4\" >1.000000</td>\n",
       "      <td id=\"T_46420_row4_col5\" class=\"data row4 col5\" >0.025186</td>\n",
       "      <td id=\"T_46420_row4_col6\" class=\"data row4 col6\" >0.167652</td>\n",
       "      <td id=\"T_46420_row4_col7\" class=\"data row4 col7\" >-0.018739</td>\n",
       "      <td id=\"T_46420_row4_col8\" class=\"data row4 col8\" >0.078243</td>\n",
       "      <td id=\"T_46420_row4_col9\" class=\"data row4 col9\" >0.027709</td>\n",
       "      <td id=\"T_46420_row4_col10\" class=\"data row4 col10\" >-0.005755</td>\n",
       "      <td id=\"T_46420_row4_col11\" class=\"data row4 col11\" >0.126541</td>\n",
       "      <td id=\"T_46420_row4_col12\" class=\"data row4 col12\" >0.028836</td>\n",
       "      <td id=\"T_46420_row4_col13\" class=\"data row4 col13\" >0.118021</td>\n",
       "    </tr>\n",
       "    <tr>\n",
       "      <th id=\"T_46420_level0_row5\" class=\"row_heading level0 row5\" >FBS over 120</th>\n",
       "      <td id=\"T_46420_row5_col0\" class=\"data row5 col0\" >0.123458</td>\n",
       "      <td id=\"T_46420_row5_col1\" class=\"data row5 col1\" >0.042140</td>\n",
       "      <td id=\"T_46420_row5_col2\" class=\"data row5 col2\" >-0.098537</td>\n",
       "      <td id=\"T_46420_row5_col3\" class=\"data row5 col3\" >0.155681</td>\n",
       "      <td id=\"T_46420_row5_col4\" class=\"data row5 col4\" >0.025186</td>\n",
       "      <td id=\"T_46420_row5_col5\" class=\"data row5 col5\" >1.000000</td>\n",
       "      <td id=\"T_46420_row5_col6\" class=\"data row5 col6\" >0.053499</td>\n",
       "      <td id=\"T_46420_row5_col7\" class=\"data row5 col7\" >0.022494</td>\n",
       "      <td id=\"T_46420_row5_col8\" class=\"data row5 col8\" >-0.004107</td>\n",
       "      <td id=\"T_46420_row5_col9\" class=\"data row5 col9\" >-0.025538</td>\n",
       "      <td id=\"T_46420_row5_col10\" class=\"data row5 col10\" >0.044076</td>\n",
       "      <td id=\"T_46420_row5_col11\" class=\"data row5 col11\" >0.123774</td>\n",
       "      <td id=\"T_46420_row5_col12\" class=\"data row5 col12\" >0.049237</td>\n",
       "      <td id=\"T_46420_row5_col13\" class=\"data row5 col13\" >-0.016319</td>\n",
       "    </tr>\n",
       "    <tr>\n",
       "      <th id=\"T_46420_level0_row6\" class=\"row_heading level0 row6\" >EKG results</th>\n",
       "      <td id=\"T_46420_row6_col0\" class=\"data row6 col0\" >0.128171</td>\n",
       "      <td id=\"T_46420_row6_col1\" class=\"data row6 col1\" >0.039253</td>\n",
       "      <td id=\"T_46420_row6_col2\" class=\"data row6 col2\" >0.074325</td>\n",
       "      <td id=\"T_46420_row6_col3\" class=\"data row6 col3\" >0.116157</td>\n",
       "      <td id=\"T_46420_row6_col4\" class=\"data row6 col4\" >0.167652</td>\n",
       "      <td id=\"T_46420_row6_col5\" class=\"data row6 col5\" >0.053499</td>\n",
       "      <td id=\"T_46420_row6_col6\" class=\"data row6 col6\" >1.000000</td>\n",
       "      <td id=\"T_46420_row6_col7\" class=\"data row6 col7\" >-0.074628</td>\n",
       "      <td id=\"T_46420_row6_col8\" class=\"data row6 col8\" >0.095098</td>\n",
       "      <td id=\"T_46420_row6_col9\" class=\"data row6 col9\" >0.120034</td>\n",
       "      <td id=\"T_46420_row6_col10\" class=\"data row6 col10\" >0.160614</td>\n",
       "      <td id=\"T_46420_row6_col11\" class=\"data row6 col11\" >0.114368</td>\n",
       "      <td id=\"T_46420_row6_col12\" class=\"data row6 col12\" >0.007337</td>\n",
       "      <td id=\"T_46420_row6_col13\" class=\"data row6 col13\" >0.182091</td>\n",
       "    </tr>\n",
       "    <tr>\n",
       "      <th id=\"T_46420_level0_row7\" class=\"row_heading level0 row7\" >Max HR</th>\n",
       "      <td id=\"T_46420_row7_col0\" class=\"data row7 col0\" >-0.402215</td>\n",
       "      <td id=\"T_46420_row7_col1\" class=\"data row7 col1\" >-0.076101</td>\n",
       "      <td id=\"T_46420_row7_col2\" class=\"data row7 col2\" >-0.317682</td>\n",
       "      <td id=\"T_46420_row7_col3\" class=\"data row7 col3\" >-0.039136</td>\n",
       "      <td id=\"T_46420_row7_col4\" class=\"data row7 col4\" >-0.018739</td>\n",
       "      <td id=\"T_46420_row7_col5\" class=\"data row7 col5\" >0.022494</td>\n",
       "      <td id=\"T_46420_row7_col6\" class=\"data row7 col6\" >-0.074628</td>\n",
       "      <td id=\"T_46420_row7_col7\" class=\"data row7 col7\" >1.000000</td>\n",
       "      <td id=\"T_46420_row7_col8\" class=\"data row7 col8\" >-0.380719</td>\n",
       "      <td id=\"T_46420_row7_col9\" class=\"data row7 col9\" >-0.349045</td>\n",
       "      <td id=\"T_46420_row7_col10\" class=\"data row7 col10\" >-0.386847</td>\n",
       "      <td id=\"T_46420_row7_col11\" class=\"data row7 col11\" >-0.265333</td>\n",
       "      <td id=\"T_46420_row7_col12\" class=\"data row7 col12\" >-0.253397</td>\n",
       "      <td id=\"T_46420_row7_col13\" class=\"data row7 col13\" >-0.418514</td>\n",
       "    </tr>\n",
       "    <tr>\n",
       "      <th id=\"T_46420_level0_row8\" class=\"row_heading level0 row8\" >Exercise angina</th>\n",
       "      <td id=\"T_46420_row8_col0\" class=\"data row8 col0\" >0.098297</td>\n",
       "      <td id=\"T_46420_row8_col1\" class=\"data row8 col1\" >0.180022</td>\n",
       "      <td id=\"T_46420_row8_col2\" class=\"data row8 col2\" >0.353160</td>\n",
       "      <td id=\"T_46420_row8_col3\" class=\"data row8 col3\" >0.082793</td>\n",
       "      <td id=\"T_46420_row8_col4\" class=\"data row8 col4\" >0.078243</td>\n",
       "      <td id=\"T_46420_row8_col5\" class=\"data row8 col5\" >-0.004107</td>\n",
       "      <td id=\"T_46420_row8_col6\" class=\"data row8 col6\" >0.095098</td>\n",
       "      <td id=\"T_46420_row8_col7\" class=\"data row8 col7\" >-0.380719</td>\n",
       "      <td id=\"T_46420_row8_col8\" class=\"data row8 col8\" >1.000000</td>\n",
       "      <td id=\"T_46420_row8_col9\" class=\"data row8 col9\" >0.274672</td>\n",
       "      <td id=\"T_46420_row8_col10\" class=\"data row8 col10\" >0.255908</td>\n",
       "      <td id=\"T_46420_row8_col11\" class=\"data row8 col11\" >0.153347</td>\n",
       "      <td id=\"T_46420_row8_col12\" class=\"data row8 col12\" >0.321449</td>\n",
       "      <td id=\"T_46420_row8_col13\" class=\"data row8 col13\" >0.419303</td>\n",
       "    </tr>\n",
       "    <tr>\n",
       "      <th id=\"T_46420_level0_row9\" class=\"row_heading level0 row9\" >ST depression</th>\n",
       "      <td id=\"T_46420_row9_col0\" class=\"data row9 col0\" >0.194234</td>\n",
       "      <td id=\"T_46420_row9_col1\" class=\"data row9 col1\" >0.097412</td>\n",
       "      <td id=\"T_46420_row9_col2\" class=\"data row9 col2\" >0.167244</td>\n",
       "      <td id=\"T_46420_row9_col3\" class=\"data row9 col3\" >0.222800</td>\n",
       "      <td id=\"T_46420_row9_col4\" class=\"data row9 col4\" >0.027709</td>\n",
       "      <td id=\"T_46420_row9_col5\" class=\"data row9 col5\" >-0.025538</td>\n",
       "      <td id=\"T_46420_row9_col6\" class=\"data row9 col6\" >0.120034</td>\n",
       "      <td id=\"T_46420_row9_col7\" class=\"data row9 col7\" >-0.349045</td>\n",
       "      <td id=\"T_46420_row9_col8\" class=\"data row9 col8\" >0.274672</td>\n",
       "      <td id=\"T_46420_row9_col9\" class=\"data row9 col9\" >1.000000</td>\n",
       "      <td id=\"T_46420_row9_col10\" class=\"data row9 col10\" >0.609712</td>\n",
       "      <td id=\"T_46420_row9_col11\" class=\"data row9 col11\" >0.255005</td>\n",
       "      <td id=\"T_46420_row9_col12\" class=\"data row9 col12\" >0.324333</td>\n",
       "      <td id=\"T_46420_row9_col13\" class=\"data row9 col13\" >0.417967</td>\n",
       "    </tr>\n",
       "    <tr>\n",
       "      <th id=\"T_46420_level0_row10\" class=\"row_heading level0 row10\" >Slope of ST</th>\n",
       "      <td id=\"T_46420_row10_col0\" class=\"data row10 col0\" >0.159774</td>\n",
       "      <td id=\"T_46420_row10_col1\" class=\"data row10 col1\" >0.050545</td>\n",
       "      <td id=\"T_46420_row10_col2\" class=\"data row10 col2\" >0.136900</td>\n",
       "      <td id=\"T_46420_row10_col3\" class=\"data row10 col3\" >0.142472</td>\n",
       "      <td id=\"T_46420_row10_col4\" class=\"data row10 col4\" >-0.005755</td>\n",
       "      <td id=\"T_46420_row10_col5\" class=\"data row10 col5\" >0.044076</td>\n",
       "      <td id=\"T_46420_row10_col6\" class=\"data row10 col6\" >0.160614</td>\n",
       "      <td id=\"T_46420_row10_col7\" class=\"data row10 col7\" >-0.386847</td>\n",
       "      <td id=\"T_46420_row10_col8\" class=\"data row10 col8\" >0.255908</td>\n",
       "      <td id=\"T_46420_row10_col9\" class=\"data row10 col9\" >0.609712</td>\n",
       "      <td id=\"T_46420_row10_col10\" class=\"data row10 col10\" >1.000000</td>\n",
       "      <td id=\"T_46420_row10_col11\" class=\"data row10 col11\" >0.109498</td>\n",
       "      <td id=\"T_46420_row10_col12\" class=\"data row10 col12\" >0.283678</td>\n",
       "      <td id=\"T_46420_row10_col13\" class=\"data row10 col13\" >0.337616</td>\n",
       "    </tr>\n",
       "    <tr>\n",
       "      <th id=\"T_46420_level0_row11\" class=\"row_heading level0 row11\" >Number of vessels fluro</th>\n",
       "      <td id=\"T_46420_row11_col0\" class=\"data row11 col0\" >0.356081</td>\n",
       "      <td id=\"T_46420_row11_col1\" class=\"data row11 col1\" >0.086830</td>\n",
       "      <td id=\"T_46420_row11_col2\" class=\"data row11 col2\" >0.225890</td>\n",
       "      <td id=\"T_46420_row11_col3\" class=\"data row11 col3\" >0.085697</td>\n",
       "      <td id=\"T_46420_row11_col4\" class=\"data row11 col4\" >0.126541</td>\n",
       "      <td id=\"T_46420_row11_col5\" class=\"data row11 col5\" >0.123774</td>\n",
       "      <td id=\"T_46420_row11_col6\" class=\"data row11 col6\" >0.114368</td>\n",
       "      <td id=\"T_46420_row11_col7\" class=\"data row11 col7\" >-0.265333</td>\n",
       "      <td id=\"T_46420_row11_col8\" class=\"data row11 col8\" >0.153347</td>\n",
       "      <td id=\"T_46420_row11_col9\" class=\"data row11 col9\" >0.255005</td>\n",
       "      <td id=\"T_46420_row11_col10\" class=\"data row11 col10\" >0.109498</td>\n",
       "      <td id=\"T_46420_row11_col11\" class=\"data row11 col11\" >1.000000</td>\n",
       "      <td id=\"T_46420_row11_col12\" class=\"data row11 col12\" >0.255648</td>\n",
       "      <td id=\"T_46420_row11_col13\" class=\"data row11 col13\" >0.455336</td>\n",
       "    </tr>\n",
       "    <tr>\n",
       "      <th id=\"T_46420_level0_row12\" class=\"row_heading level0 row12\" >Thallium</th>\n",
       "      <td id=\"T_46420_row12_col0\" class=\"data row12 col0\" >0.106100</td>\n",
       "      <td id=\"T_46420_row12_col1\" class=\"data row12 col1\" >0.391046</td>\n",
       "      <td id=\"T_46420_row12_col2\" class=\"data row12 col2\" >0.262659</td>\n",
       "      <td id=\"T_46420_row12_col3\" class=\"data row12 col3\" >0.132045</td>\n",
       "      <td id=\"T_46420_row12_col4\" class=\"data row12 col4\" >0.028836</td>\n",
       "      <td id=\"T_46420_row12_col5\" class=\"data row12 col5\" >0.049237</td>\n",
       "      <td id=\"T_46420_row12_col6\" class=\"data row12 col6\" >0.007337</td>\n",
       "      <td id=\"T_46420_row12_col7\" class=\"data row12 col7\" >-0.253397</td>\n",
       "      <td id=\"T_46420_row12_col8\" class=\"data row12 col8\" >0.321449</td>\n",
       "      <td id=\"T_46420_row12_col9\" class=\"data row12 col9\" >0.324333</td>\n",
       "      <td id=\"T_46420_row12_col10\" class=\"data row12 col10\" >0.283678</td>\n",
       "      <td id=\"T_46420_row12_col11\" class=\"data row12 col11\" >0.255648</td>\n",
       "      <td id=\"T_46420_row12_col12\" class=\"data row12 col12\" >1.000000</td>\n",
       "      <td id=\"T_46420_row12_col13\" class=\"data row12 col13\" >0.525020</td>\n",
       "    </tr>\n",
       "    <tr>\n",
       "      <th id=\"T_46420_level0_row13\" class=\"row_heading level0 row13\" >Heart Disease</th>\n",
       "      <td id=\"T_46420_row13_col0\" class=\"data row13 col0\" >0.212322</td>\n",
       "      <td id=\"T_46420_row13_col1\" class=\"data row13 col1\" >0.297721</td>\n",
       "      <td id=\"T_46420_row13_col2\" class=\"data row13 col2\" >0.417436</td>\n",
       "      <td id=\"T_46420_row13_col3\" class=\"data row13 col3\" >0.155383</td>\n",
       "      <td id=\"T_46420_row13_col4\" class=\"data row13 col4\" >0.118021</td>\n",
       "      <td id=\"T_46420_row13_col5\" class=\"data row13 col5\" >-0.016319</td>\n",
       "      <td id=\"T_46420_row13_col6\" class=\"data row13 col6\" >0.182091</td>\n",
       "      <td id=\"T_46420_row13_col7\" class=\"data row13 col7\" >-0.418514</td>\n",
       "      <td id=\"T_46420_row13_col8\" class=\"data row13 col8\" >0.419303</td>\n",
       "      <td id=\"T_46420_row13_col9\" class=\"data row13 col9\" >0.417967</td>\n",
       "      <td id=\"T_46420_row13_col10\" class=\"data row13 col10\" >0.337616</td>\n",
       "      <td id=\"T_46420_row13_col11\" class=\"data row13 col11\" >0.455336</td>\n",
       "      <td id=\"T_46420_row13_col12\" class=\"data row13 col12\" >0.525020</td>\n",
       "      <td id=\"T_46420_row13_col13\" class=\"data row13 col13\" >1.000000</td>\n",
       "    </tr>\n",
       "  </tbody>\n",
       "</table>\n"
      ],
      "text/plain": [
       "<pandas.io.formats.style.Styler at 0x104433970>"
      ]
     },
     "execution_count": 25,
     "metadata": {},
     "output_type": "execute_result"
    }
   ],
   "source": [
    "df.corr().style.background_gradient()"
   ]
  },
  {
   "cell_type": "code",
   "execution_count": 26,
   "id": "b3d2f574-ff5c-4a6c-bdfc-871b2f68915a",
   "metadata": {},
   "outputs": [
    {
     "data": {
      "image/png": "[encoded data removed]",
      "text/plain": [
       "<Figure size 600x400 with 1 Axes>"
      ]
     },
     "metadata": {},
     "output_type": "display_data"
    },
    {
     "data": {
      "image/png": "[encoded data removed]",
      "text/plain": [
       "<Figure size 600x400 with 1 Axes>"
      ]
     },
     "metadata": {},
     "output_type": "display_data"
    },
    {
     "data": {
      "image/png": "[encoded data removed]",
      "text/plain": [
       "<Figure size 600x400 with 1 Axes>"
      ]
     },
     "metadata": {},
     "output_type": "display_data"
    },
    {
     "data": {
      "image/png": "[encoded data removed]",
      "text/plain": [
       "<Figure size 600x400 with 1 Axes>"
      ]
     },
     "metadata": {},
     "output_type": "display_data"
    },
    {
     "data": {
      "image/png": "[encoded data removed]",
      "text/plain": [
       "<Figure size 600x400 with 1 Axes>"
      ]
     },
     "metadata": {},
     "output_type": "display_data"
    },
    {
     "data": {
      "image/png": "[encoded data removed]",
      "text/plain": [
       "<Figure size 600x400 with 1 Axes>"
      ]
     },
     "metadata": {},
     "output_type": "display_data"
    },
    {
     "data": {
      "image/png": "[encoded data removed]",
      "text/plain": [
       "<Figure size 600x400 with 1 Axes>"
      ]
     },
     "metadata": {},
     "output_type": "display_data"
    },
    {
     "data": {
      "image/png": "[encoded data removed]",
      "text/plain": [
       "<Figure size 600x400 with 1 Axes>"
      ]
     },
     "metadata": {},
     "output_type": "display_data"
    },
    {
     "data": {
      "image/png": "[encoded data removed]",
      "text/plain": [
       "<Figure size 600x400 with 1 Axes>"
      ]
     },
     "metadata": {},
     "output_type": "display_data"
    },
    {
     "data": {
      "image/png": "[encoded data removed]",
      "text/plain": [
       "<Figure size 600x400 with 1 Axes>"
      ]
     },
     "metadata": {},
     "output_type": "display_data"
    },
    {
     "data": {
      "image/png": "[encoded data removed]",
      "text/plain": [
       "<Figure size 600x400 with 1 Axes>"
      ]
     },
     "metadata": {},
     "output_type": "display_data"
    },
    {
     "data": {
      "image/png": "[encoded data removed]",
      "text/plain": [
       "<Figure size 600x400 with 1 Axes>"
      ]
     },
     "metadata": {},
     "output_type": "display_data"
    },
    {
     "data": {
      "image/png": "[encoded data removed]",
      "text/plain": [
       "<Figure size 600x400 with 1 Axes>"
      ]
     },
     "metadata": {},
     "output_type": "display_data"
    },
    {
     "data": {
      "image/png": "[encoded data removed]",
      "text/plain": [
       "<Figure size 600x400 with 1 Axes>"
      ]
     },
     "metadata": {},
     "output_type": "display_data"
    }
   ],
   "source": [
    "for i in df.columns:\n",
    "    plt.figure(figsize = (6,4))\n",
    "    sns.distplot(df[i], color = 'r')\n",
    "    plt.xlabel(i)\n",
    "    plt.show()"
   ]
  },
  {
   "cell_type": "code",
   "execution_count": 27,
   "id": "fad31833-af9f-40f4-9c92-396773bbe389",
   "metadata": {},
   "outputs": [
    {
     "data": {
      "image/png": "[encoded data removed]",
      "text/plain": [
       "<Figure size 1000x400 with 1 Axes>"
      ]
     },
     "metadata": {},
     "output_type": "display_data"
    },
    {
     "data": {
      "image/png": "[encoded data removed]",
      "text/plain": [
       "<Figure size 1000x400 with 1 Axes>"
      ]
     },
     "metadata": {},
     "output_type": "display_data"
    },
    {
     "data": {
      "image/png": "[encoded data removed]",
      "text/plain": [
       "<Figure size 1000x400 with 1 Axes>"
      ]
     },
     "metadata": {},
     "output_type": "display_data"
    },
    {
     "data": {
      "image/png": "[encoded data removed]",
      "text/plain": [
       "<Figure size 1000x400 with 1 Axes>"
      ]
     },
     "metadata": {},
     "output_type": "display_data"
    },
    {
     "data": {
      "image/png": "[encoded data removed]",
      "text/plain": [
       "<Figure size 1000x400 with 1 Axes>"
      ]
     },
     "metadata": {},
     "output_type": "display_data"
    },
    {
     "data": {
      "image/png": "[encoded data removed]",
      "text/plain": [
       "<Figure size 1000x400 with 1 Axes>"
      ]
     },
     "metadata": {},
     "output_type": "display_data"
    },
    {
     "data": {
      "image/png": "[encoded data removed]",
      "text/plain": [
       "<Figure size 1000x400 with 1 Axes>"
      ]
     },
     "metadata": {},
     "output_type": "display_data"
    },
    {
     "data": {
      "image/png": "[encoded data removed]",
      "text/plain": [
       "<Figure size 1000x400 with 1 Axes>"
      ]
     },
     "metadata": {},
     "output_type": "display_data"
    },
    {
     "data": {
      "image/png": "[encoded data removed]",
      "text/plain": [
       "<Figure size 1000x400 with 1 Axes>"
      ]
     },
     "metadata": {},
     "output_type": "display_data"
    },
    {
     "data": {
      "image/png": "[encoded data removed]",
      "text/plain": [
       "<Figure size 1000x400 with 1 Axes>"
      ]
     },
     "metadata": {},
     "output_type": "display_data"
    },
    {
     "data": {
      "image/png": "[encoded data removed]",
      "text/plain": [
       "<Figure size 1000x400 with 1 Axes>"
      ]
     },
     "metadata": {},
     "output_type": "display_data"
    },
    {
     "data": {
      "image/png": "[encoded data removed]",
      "text/plain": [
       "<Figure size 1000x400 with 1 Axes>"
      ]
     },
     "metadata": {},
     "output_type": "display_data"
    },
    {
     "data": {
      "image/png": "[encoded data removed]",
      "text/plain": [
       "<Figure size 1000x400 with 1 Axes>"
      ]
     },
     "metadata": {},
     "output_type": "display_data"
    },
    {
     "data": {
      "image/png": "[encoded data removed]",
      "text/plain": [
       "<Figure size 1000x400 with 1 Axes>"
      ]
     },
     "metadata": {},
     "output_type": "display_data"
    }
   ],
   "source": [
    "for i in df.columns:\n",
    "    plt.figure(figsize = (10,4))\n",
    "    sns.boxplot(x = df[i], color = 'g')\n",
    "    plt.xlabel(i)\n",
    "    plt.show()"
   ]
  },
  {
   "cell_type": "code",
   "execution_count": 28,
   "id": "7a1b0ba5-9400-4249-a461-d4c45a228e39",
   "metadata": {},
   "outputs": [
    {
     "data": {
      "text/html": [
       "<div>\n",
       "<style scoped>\n",
       "    .dataframe tbody tr th:only-of-type {\n",
       "        vertical-align: middle;\n",
       "    }\n",
       "\n",
       "    .dataframe tbody tr th {\n",
       "        vertical-align: top;\n",
       "    }\n",
       "\n",
       "    .dataframe thead th {\n",
       "        text-align: right;\n",
       "    }\n",
       "</style>\n",
       "<table border=\"1\" class=\"dataframe\">\n",
       "  <thead>\n",
       "    <tr style=\"text-align: right;\">\n",
       "      <th></th>\n",
       "      <th>count</th>\n",
       "      <th>mean</th>\n",
       "      <th>std</th>\n",
       "      <th>min</th>\n",
       "      <th>25%</th>\n",
       "      <th>50%</th>\n",
       "      <th>75%</th>\n",
       "      <th>max</th>\n",
       "    </tr>\n",
       "  </thead>\n",
       "  <tbody>\n",
       "    <tr>\n",
       "      <th>Age</th>\n",
       "      <td>270.0</td>\n",
       "      <td>54.433333</td>\n",
       "      <td>9.109067</td>\n",
       "      <td>29.0</td>\n",
       "      <td>48.0</td>\n",
       "      <td>55.0</td>\n",
       "      <td>61.0</td>\n",
       "      <td>77.0</td>\n",
       "    </tr>\n",
       "    <tr>\n",
       "      <th>Sex</th>\n",
       "      <td>270.0</td>\n",
       "      <td>0.677778</td>\n",
       "      <td>0.468195</td>\n",
       "      <td>0.0</td>\n",
       "      <td>0.0</td>\n",
       "      <td>1.0</td>\n",
       "      <td>1.0</td>\n",
       "      <td>1.0</td>\n",
       "    </tr>\n",
       "    <tr>\n",
       "      <th>Chest pain type</th>\n",
       "      <td>270.0</td>\n",
       "      <td>3.174074</td>\n",
       "      <td>0.950090</td>\n",
       "      <td>1.0</td>\n",
       "      <td>3.0</td>\n",
       "      <td>3.0</td>\n",
       "      <td>4.0</td>\n",
       "      <td>4.0</td>\n",
       "    </tr>\n",
       "    <tr>\n",
       "      <th>BP</th>\n",
       "      <td>270.0</td>\n",
       "      <td>131.344444</td>\n",
       "      <td>17.861608</td>\n",
       "      <td>94.0</td>\n",
       "      <td>120.0</td>\n",
       "      <td>130.0</td>\n",
       "      <td>140.0</td>\n",
       "      <td>200.0</td>\n",
       "    </tr>\n",
       "    <tr>\n",
       "      <th>Cholesterol</th>\n",
       "      <td>270.0</td>\n",
       "      <td>249.659259</td>\n",
       "      <td>51.686237</td>\n",
       "      <td>126.0</td>\n",
       "      <td>213.0</td>\n",
       "      <td>245.0</td>\n",
       "      <td>280.0</td>\n",
       "      <td>564.0</td>\n",
       "    </tr>\n",
       "    <tr>\n",
       "      <th>FBS over 120</th>\n",
       "      <td>270.0</td>\n",
       "      <td>0.148148</td>\n",
       "      <td>0.355906</td>\n",
       "      <td>0.0</td>\n",
       "      <td>0.0</td>\n",
       "      <td>0.0</td>\n",
       "      <td>0.0</td>\n",
       "      <td>1.0</td>\n",
       "    </tr>\n",
       "    <tr>\n",
       "      <th>EKG results</th>\n",
       "      <td>270.0</td>\n",
       "      <td>1.022222</td>\n",
       "      <td>0.997891</td>\n",
       "      <td>0.0</td>\n",
       "      <td>0.0</td>\n",
       "      <td>2.0</td>\n",
       "      <td>2.0</td>\n",
       "      <td>2.0</td>\n",
       "    </tr>\n",
       "    <tr>\n",
       "      <th>Max HR</th>\n",
       "      <td>270.0</td>\n",
       "      <td>149.677778</td>\n",
       "      <td>23.165717</td>\n",
       "      <td>71.0</td>\n",
       "      <td>133.0</td>\n",
       "      <td>153.5</td>\n",
       "      <td>166.0</td>\n",
       "      <td>202.0</td>\n",
       "    </tr>\n",
       "    <tr>\n",
       "      <th>Exercise angina</th>\n",
       "      <td>270.0</td>\n",
       "      <td>0.329630</td>\n",
       "      <td>0.470952</td>\n",
       "      <td>0.0</td>\n",
       "      <td>0.0</td>\n",
       "      <td>0.0</td>\n",
       "      <td>1.0</td>\n",
       "      <td>1.0</td>\n",
       "    </tr>\n",
       "    <tr>\n",
       "      <th>ST depression</th>\n",
       "      <td>270.0</td>\n",
       "      <td>1.050000</td>\n",
       "      <td>1.145210</td>\n",
       "      <td>0.0</td>\n",
       "      <td>0.0</td>\n",
       "      <td>0.8</td>\n",
       "      <td>1.6</td>\n",
       "      <td>6.2</td>\n",
       "    </tr>\n",
       "    <tr>\n",
       "      <th>Slope of ST</th>\n",
       "      <td>270.0</td>\n",
       "      <td>1.585185</td>\n",
       "      <td>0.614390</td>\n",
       "      <td>1.0</td>\n",
       "      <td>1.0</td>\n",
       "      <td>2.0</td>\n",
       "      <td>2.0</td>\n",
       "      <td>3.0</td>\n",
       "    </tr>\n",
       "    <tr>\n",
       "      <th>Number of vessels fluro</th>\n",
       "      <td>270.0</td>\n",
       "      <td>0.670370</td>\n",
       "      <td>0.943896</td>\n",
       "      <td>0.0</td>\n",
       "      <td>0.0</td>\n",
       "      <td>0.0</td>\n",
       "      <td>1.0</td>\n",
       "      <td>3.0</td>\n",
       "    </tr>\n",
       "    <tr>\n",
       "      <th>Thallium</th>\n",
       "      <td>270.0</td>\n",
       "      <td>4.696296</td>\n",
       "      <td>1.940659</td>\n",
       "      <td>3.0</td>\n",
       "      <td>3.0</td>\n",
       "      <td>3.0</td>\n",
       "      <td>7.0</td>\n",
       "      <td>7.0</td>\n",
       "    </tr>\n",
       "    <tr>\n",
       "      <th>Heart Disease</th>\n",
       "      <td>270.0</td>\n",
       "      <td>0.444444</td>\n",
       "      <td>0.497827</td>\n",
       "      <td>0.0</td>\n",
       "      <td>0.0</td>\n",
       "      <td>0.0</td>\n",
       "      <td>1.0</td>\n",
       "      <td>1.0</td>\n",
       "    </tr>\n",
       "  </tbody>\n",
       "</table>\n",
       "</div>"
      ],
      "text/plain": [
       "                         count        mean        std    min    25%    50%  \\\n",
       "Age                      270.0   54.433333   9.109067   29.0   48.0   55.0   \n",
       "Sex                      270.0    0.677778   0.468195    0.0    0.0    1.0   \n",
       "Chest pain type          270.0    3.174074   0.950090    1.0    3.0    3.0   \n",
       "BP                       270.0  131.344444  17.861608   94.0  120.0  130.0   \n",
       "Cholesterol              270.0  249.659259  51.686237  126.0  213.0  245.0   \n",
       "FBS over 120             270.0    0.148148   0.355906    0.0    0.0    0.0   \n",
       "EKG results              270.0    1.022222   0.997891    0.0    0.0    2.0   \n",
       "Max HR                   270.0  149.677778  23.165717   71.0  133.0  153.5   \n",
       "Exercise angina          270.0    0.329630   0.470952    0.0    0.0    0.0   \n",
       "ST depression            270.0    1.050000   1.145210    0.0    0.0    0.8   \n",
       "Slope of ST              270.0    1.585185   0.614390    1.0    1.0    2.0   \n",
       "Number of vessels fluro  270.0    0.670370   0.943896    0.0    0.0    0.0   \n",
       "Thallium                 270.0    4.696296   1.940659    3.0    3.0    3.0   \n",
       "Heart Disease            270.0    0.444444   0.497827    0.0    0.0    0.0   \n",
       "\n",
       "                           75%    max  \n",
       "Age                       61.0   77.0  \n",
       "Sex                        1.0    1.0  \n",
       "Chest pain type            4.0    4.0  \n",
       "BP                       140.0  200.0  \n",
       "Cholesterol              280.0  564.0  \n",
       "FBS over 120               0.0    1.0  \n",
       "EKG results                2.0    2.0  \n",
       "Max HR                   166.0  202.0  \n",
       "Exercise angina            1.0    1.0  \n",
       "ST depression              1.6    6.2  \n",
       "Slope of ST                2.0    3.0  \n",
       "Number of vessels fluro    1.0    3.0  \n",
       "Thallium                   7.0    7.0  \n",
       "Heart Disease              1.0    1.0  "
      ]
     },
     "execution_count": 28,
     "metadata": {},
     "output_type": "execute_result"
    }
   ],
   "source": [
    "df.describe().T"
   ]
  },
  {
   "cell_type": "code",
   "execution_count": 29,
   "id": "49ff33e0-333d-46af-8568-18edb5b25cf8",
   "metadata": {},
   "outputs": [],
   "source": [
    "df = df[df['Number of vessels fluro'] <= 2.0]"
   ]
  },
  {
   "cell_type": "code",
   "execution_count": 30,
   "id": "9f644545-59fc-47e7-a4e4-f9b74df9291c",
   "metadata": {},
   "outputs": [],
   "source": [
    "df = df[df['ST depression'] <= 4]"
   ]
  },
  {
   "cell_type": "code",
   "execution_count": 31,
   "id": "6de12638-91cb-4d01-9085-7e6ea3a83996",
   "metadata": {},
   "outputs": [],
   "source": [
    "df = df[df['Max HR'] > 95]"
   ]
  },
  {
   "cell_type": "code",
   "execution_count": 32,
   "id": "8cb011fc-3fc3-4bd1-b807-b8bf1c534ce0",
   "metadata": {},
   "outputs": [
    {
     "data": {
      "text/plain": [
       "FBS over 120\n",
       "0    211\n",
       "1     35\n",
       "Name: count, dtype: int64"
      ]
     },
     "execution_count": 32,
     "metadata": {},
     "output_type": "execute_result"
    }
   ],
   "source": [
    "df['FBS over 120'].value_counts()"
   ]
  },
  {
   "cell_type": "code",
   "execution_count": 33,
   "id": "7a6a7d98-9417-414a-814c-cf99affb2ea7",
   "metadata": {},
   "outputs": [],
   "source": [
    "df = df[df['Cholesterol'] <= 350]"
   ]
  },
  {
   "cell_type": "code",
   "execution_count": 34,
   "id": "9b6e7fb1-df58-4212-8a7f-e77ea1a1a943",
   "metadata": {},
   "outputs": [],
   "source": [
    "df = df[df['BP'] < 170]"
   ]
  },
  {
   "cell_type": "code",
   "execution_count": 35,
   "id": "e8e70255-05cb-4870-abf3-1d3e3a275c9c",
   "metadata": {},
   "outputs": [],
   "source": [
    "def male_female(x):\n",
    "    if x == 1:\n",
    "        return 'Male'\n",
    "    return 'Female'"
   ]
  },
  {
   "cell_type": "code",
   "execution_count": 36,
   "id": "0ded63ef-108e-4e93-bf1f-a96432cf5a72",
   "metadata": {},
   "outputs": [],
   "source": [
    "df['Sex'] = df['Sex'].apply(male_female)"
   ]
  },
  {
   "cell_type": "code",
   "execution_count": 37,
   "id": "ea77bdc3-f3dc-4f03-b092-1eaef296a671",
   "metadata": {},
   "outputs": [
    {
     "data": {
      "text/html": [
       "<div>\n",
       "<style scoped>\n",
       "    .dataframe tbody tr th:only-of-type {\n",
       "        vertical-align: middle;\n",
       "    }\n",
       "\n",
       "    .dataframe tbody tr th {\n",
       "        vertical-align: top;\n",
       "    }\n",
       "\n",
       "    .dataframe thead th {\n",
       "        text-align: right;\n",
       "    }\n",
       "</style>\n",
       "<table border=\"1\" class=\"dataframe\">\n",
       "  <thead>\n",
       "    <tr style=\"text-align: right;\">\n",
       "      <th></th>\n",
       "      <th>Age</th>\n",
       "      <th>Sex</th>\n",
       "      <th>Chest pain type</th>\n",
       "      <th>BP</th>\n",
       "      <th>Cholesterol</th>\n",
       "      <th>FBS over 120</th>\n",
       "      <th>EKG results</th>\n",
       "      <th>Max HR</th>\n",
       "      <th>Exercise angina</th>\n",
       "      <th>ST depression</th>\n",
       "      <th>Slope of ST</th>\n",
       "      <th>Number of vessels fluro</th>\n",
       "      <th>Thallium</th>\n",
       "      <th>Heart Disease</th>\n",
       "    </tr>\n",
       "  </thead>\n",
       "  <tbody>\n",
       "    <tr>\n",
       "      <th>2</th>\n",
       "      <td>57</td>\n",
       "      <td>Male</td>\n",
       "      <td>2</td>\n",
       "      <td>124</td>\n",
       "      <td>261</td>\n",
       "      <td>0</td>\n",
       "      <td>0</td>\n",
       "      <td>141</td>\n",
       "      <td>0</td>\n",
       "      <td>0.3</td>\n",
       "      <td>1</td>\n",
       "      <td>0</td>\n",
       "      <td>7</td>\n",
       "      <td>1</td>\n",
       "    </tr>\n",
       "    <tr>\n",
       "      <th>3</th>\n",
       "      <td>64</td>\n",
       "      <td>Male</td>\n",
       "      <td>4</td>\n",
       "      <td>128</td>\n",
       "      <td>263</td>\n",
       "      <td>0</td>\n",
       "      <td>0</td>\n",
       "      <td>105</td>\n",
       "      <td>1</td>\n",
       "      <td>0.2</td>\n",
       "      <td>2</td>\n",
       "      <td>1</td>\n",
       "      <td>7</td>\n",
       "      <td>0</td>\n",
       "    </tr>\n",
       "    <tr>\n",
       "      <th>4</th>\n",
       "      <td>74</td>\n",
       "      <td>Female</td>\n",
       "      <td>2</td>\n",
       "      <td>120</td>\n",
       "      <td>269</td>\n",
       "      <td>0</td>\n",
       "      <td>2</td>\n",
       "      <td>121</td>\n",
       "      <td>1</td>\n",
       "      <td>0.2</td>\n",
       "      <td>1</td>\n",
       "      <td>1</td>\n",
       "      <td>3</td>\n",
       "      <td>0</td>\n",
       "    </tr>\n",
       "    <tr>\n",
       "      <th>5</th>\n",
       "      <td>65</td>\n",
       "      <td>Male</td>\n",
       "      <td>4</td>\n",
       "      <td>120</td>\n",
       "      <td>177</td>\n",
       "      <td>0</td>\n",
       "      <td>0</td>\n",
       "      <td>140</td>\n",
       "      <td>0</td>\n",
       "      <td>0.4</td>\n",
       "      <td>1</td>\n",
       "      <td>0</td>\n",
       "      <td>7</td>\n",
       "      <td>0</td>\n",
       "    </tr>\n",
       "    <tr>\n",
       "      <th>6</th>\n",
       "      <td>56</td>\n",
       "      <td>Male</td>\n",
       "      <td>3</td>\n",
       "      <td>130</td>\n",
       "      <td>256</td>\n",
       "      <td>1</td>\n",
       "      <td>2</td>\n",
       "      <td>142</td>\n",
       "      <td>1</td>\n",
       "      <td>0.6</td>\n",
       "      <td>2</td>\n",
       "      <td>1</td>\n",
       "      <td>6</td>\n",
       "      <td>1</td>\n",
       "    </tr>\n",
       "  </tbody>\n",
       "</table>\n",
       "</div>"
      ],
      "text/plain": [
       "   Age     Sex  Chest pain type   BP  Cholesterol  FBS over 120  EKG results  \\\n",
       "2   57    Male                2  124          261             0            0   \n",
       "3   64    Male                4  128          263             0            0   \n",
       "4   74  Female                2  120          269             0            2   \n",
       "5   65    Male                4  120          177             0            0   \n",
       "6   56    Male                3  130          256             1            2   \n",
       "\n",
       "   Max HR  Exercise angina  ST depression  Slope of ST  \\\n",
       "2     141                0            0.3            1   \n",
       "3     105                1            0.2            2   \n",
       "4     121                1            0.2            1   \n",
       "5     140                0            0.4            1   \n",
       "6     142                1            0.6            2   \n",
       "\n",
       "   Number of vessels fluro  Thallium  Heart Disease  \n",
       "2                        0         7              1  \n",
       "3                        1         7              0  \n",
       "4                        1         3              0  \n",
       "5                        0         7              0  \n",
       "6                        1         6              1  "
      ]
     },
     "execution_count": 37,
     "metadata": {},
     "output_type": "execute_result"
    }
   ],
   "source": [
    "df.head()"
   ]
  },
  {
   "cell_type": "code",
   "execution_count": 38,
   "id": "a47d1b3e-f572-4194-af43-9cf6f3a1c47f",
   "metadata": {},
   "outputs": [
    {
     "data": {
      "text/html": [
       "<div>\n",
       "<style scoped>\n",
       "    .dataframe tbody tr th:only-of-type {\n",
       "        vertical-align: middle;\n",
       "    }\n",
       "\n",
       "    .dataframe tbody tr th {\n",
       "        vertical-align: top;\n",
       "    }\n",
       "\n",
       "    .dataframe thead th {\n",
       "        text-align: right;\n",
       "    }\n",
       "</style>\n",
       "<table border=\"1\" class=\"dataframe\">\n",
       "  <thead>\n",
       "    <tr style=\"text-align: right;\">\n",
       "      <th></th>\n",
       "      <th>Age</th>\n",
       "      <th>Chest pain type</th>\n",
       "      <th>BP</th>\n",
       "      <th>Cholesterol</th>\n",
       "      <th>FBS over 120</th>\n",
       "      <th>EKG results</th>\n",
       "      <th>Max HR</th>\n",
       "      <th>Exercise angina</th>\n",
       "      <th>ST depression</th>\n",
       "      <th>Slope of ST</th>\n",
       "      <th>Number of vessels fluro</th>\n",
       "      <th>Thallium</th>\n",
       "      <th>Heart Disease</th>\n",
       "      <th>Sex_Female</th>\n",
       "      <th>Sex_Male</th>\n",
       "    </tr>\n",
       "  </thead>\n",
       "  <tbody>\n",
       "    <tr>\n",
       "      <th>2</th>\n",
       "      <td>57</td>\n",
       "      <td>2</td>\n",
       "      <td>124</td>\n",
       "      <td>261</td>\n",
       "      <td>0</td>\n",
       "      <td>0</td>\n",
       "      <td>141</td>\n",
       "      <td>0</td>\n",
       "      <td>0.3</td>\n",
       "      <td>1</td>\n",
       "      <td>0</td>\n",
       "      <td>7</td>\n",
       "      <td>1</td>\n",
       "      <td>False</td>\n",
       "      <td>True</td>\n",
       "    </tr>\n",
       "    <tr>\n",
       "      <th>3</th>\n",
       "      <td>64</td>\n",
       "      <td>4</td>\n",
       "      <td>128</td>\n",
       "      <td>263</td>\n",
       "      <td>0</td>\n",
       "      <td>0</td>\n",
       "      <td>105</td>\n",
       "      <td>1</td>\n",
       "      <td>0.2</td>\n",
       "      <td>2</td>\n",
       "      <td>1</td>\n",
       "      <td>7</td>\n",
       "      <td>0</td>\n",
       "      <td>False</td>\n",
       "      <td>True</td>\n",
       "    </tr>\n",
       "    <tr>\n",
       "      <th>4</th>\n",
       "      <td>74</td>\n",
       "      <td>2</td>\n",
       "      <td>120</td>\n",
       "      <td>269</td>\n",
       "      <td>0</td>\n",
       "      <td>2</td>\n",
       "      <td>121</td>\n",
       "      <td>1</td>\n",
       "      <td>0.2</td>\n",
       "      <td>1</td>\n",
       "      <td>1</td>\n",
       "      <td>3</td>\n",
       "      <td>0</td>\n",
       "      <td>True</td>\n",
       "      <td>False</td>\n",
       "    </tr>\n",
       "    <tr>\n",
       "      <th>5</th>\n",
       "      <td>65</td>\n",
       "      <td>4</td>\n",
       "      <td>120</td>\n",
       "      <td>177</td>\n",
       "      <td>0</td>\n",
       "      <td>0</td>\n",
       "      <td>140</td>\n",
       "      <td>0</td>\n",
       "      <td>0.4</td>\n",
       "      <td>1</td>\n",
       "      <td>0</td>\n",
       "      <td>7</td>\n",
       "      <td>0</td>\n",
       "      <td>False</td>\n",
       "      <td>True</td>\n",
       "    </tr>\n",
       "    <tr>\n",
       "      <th>6</th>\n",
       "      <td>56</td>\n",
       "      <td>3</td>\n",
       "      <td>130</td>\n",
       "      <td>256</td>\n",
       "      <td>1</td>\n",
       "      <td>2</td>\n",
       "      <td>142</td>\n",
       "      <td>1</td>\n",
       "      <td>0.6</td>\n",
       "      <td>2</td>\n",
       "      <td>1</td>\n",
       "      <td>6</td>\n",
       "      <td>1</td>\n",
       "      <td>False</td>\n",
       "      <td>True</td>\n",
       "    </tr>\n",
       "  </tbody>\n",
       "</table>\n",
       "</div>"
      ],
      "text/plain": [
       "   Age  Chest pain type   BP  Cholesterol  FBS over 120  EKG results  Max HR  \\\n",
       "2   57                2  124          261             0            0     141   \n",
       "3   64                4  128          263             0            0     105   \n",
       "4   74                2  120          269             0            2     121   \n",
       "5   65                4  120          177             0            0     140   \n",
       "6   56                3  130          256             1            2     142   \n",
       "\n",
       "   Exercise angina  ST depression  Slope of ST  Number of vessels fluro  \\\n",
       "2                0            0.3            1                        0   \n",
       "3                1            0.2            2                        1   \n",
       "4                1            0.2            1                        1   \n",
       "5                0            0.4            1                        0   \n",
       "6                1            0.6            2                        1   \n",
       "\n",
       "   Thallium  Heart Disease  Sex_Female  Sex_Male  \n",
       "2         7              1       False      True  \n",
       "3         7              0       False      True  \n",
       "4         3              0        True     False  \n",
       "5         7              0       False      True  \n",
       "6         6              1       False      True  "
      ]
     },
     "execution_count": 38,
     "metadata": {},
     "output_type": "execute_result"
    }
   ],
   "source": [
    "df = pd.get_dummies(df, columns = ['Sex'])\n",
    "df.head()"
   ]
  },
  {
   "cell_type": "code",
   "execution_count": 39,
   "id": "b5cc18ec-1788-4aa6-84f6-ff5089a574b7",
   "metadata": {},
   "outputs": [
    {
     "name": "stdout",
     "output_type": "stream",
     "text": [
      "<class 'pandas.core.frame.DataFrame'>\n",
      "Index: 229 entries, 2 to 268\n",
      "Data columns (total 15 columns):\n",
      " #   Column                   Non-Null Count  Dtype  \n",
      "---  ------                   --------------  -----  \n",
      " 0   Age                      229 non-null    int64  \n",
      " 1   Chest pain type          229 non-null    int64  \n",
      " 2   BP                       229 non-null    int64  \n",
      " 3   Cholesterol              229 non-null    int64  \n",
      " 4   FBS over 120             229 non-null    int64  \n",
      " 5   EKG results              229 non-null    int64  \n",
      " 6   Max HR                   229 non-null    int64  \n",
      " 7   Exercise angina          229 non-null    int64  \n",
      " 8   ST depression            229 non-null    float64\n",
      " 9   Slope of ST              229 non-null    int64  \n",
      " 10  Number of vessels fluro  229 non-null    int64  \n",
      " 11  Thallium                 229 non-null    int64  \n",
      " 12  Heart Disease            229 non-null    int64  \n",
      " 13  Sex_Female               229 non-null    bool   \n",
      " 14  Sex_Male                 229 non-null    bool   \n",
      "dtypes: bool(2), float64(1), int64(12)\n",
      "memory usage: 25.5 KB\n"
     ]
    }
   ],
   "source": [
    "df.info()"
   ]
  },
  {
   "cell_type": "markdown",
   "id": "87356259-54f9-4e64-b862-0f4b922e2feb",
   "metadata": {},
   "source": [
    "### Model building"
   ]
  },
  {
   "cell_type": "code",
   "execution_count": 40,
   "id": "ffea009d",
   "metadata": {},
   "outputs": [],
   "source": [
    "x = df.drop(['Heart Disease'], axis = 1).values\n",
    "y = df['Heart Disease'].values"
   ]
  },
  {
   "cell_type": "code",
   "execution_count": 41,
   "id": "ed1bcd0a",
   "metadata": {},
   "outputs": [
    {
     "data": {
      "text/plain": [
       "(229, 14)"
      ]
     },
     "execution_count": 41,
     "metadata": {},
     "output_type": "execute_result"
    }
   ],
   "source": [
    "x.shape"
   ]
  },
  {
   "cell_type": "code",
   "execution_count": 42,
   "id": "7d373f08",
   "metadata": {},
   "outputs": [
    {
     "data": {
      "text/plain": [
       "(229,)"
      ]
     },
     "execution_count": 42,
     "metadata": {},
     "output_type": "execute_result"
    }
   ],
   "source": [
    "y.shape"
   ]
  },
  {
   "cell_type": "code",
   "execution_count": 43,
   "id": "ac851b97",
   "metadata": {},
   "outputs": [],
   "source": [
    "from sklearn.model_selection import train_test_split\n",
    "x_train, x_test, y_train, y_test = train_test_split(x,y,test_size=0.2)"
   ]
  },
  {
   "cell_type": "code",
   "execution_count": 44,
   "id": "883ea794-2866-42f4-a9a8-74479f42b67d",
   "metadata": {},
   "outputs": [
    {
     "data": {
      "text/plain": [
       "(183, 14)"
      ]
     },
     "execution_count": 44,
     "metadata": {},
     "output_type": "execute_result"
    }
   ],
   "source": [
    "x_train.shape"
   ]
  },
  {
   "cell_type": "code",
   "execution_count": 45,
   "id": "67043b79-4ad1-4094-850b-c05acebf9ef5",
   "metadata": {},
   "outputs": [
    {
     "data": {
      "text/plain": [
       "(183,)"
      ]
     },
     "execution_count": 45,
     "metadata": {},
     "output_type": "execute_result"
    }
   ],
   "source": [
    "y_train.shape"
   ]
  },
  {
   "cell_type": "markdown",
   "id": "29bcdafc-53db-4389-82a6-51fec398412b",
   "metadata": {},
   "source": [
    "### Scaling"
   ]
  },
  {
   "cell_type": "code",
   "execution_count": 46,
   "id": "39dcc95b-c998-4abb-a24b-00517b280b21",
   "metadata": {},
   "outputs": [],
   "source": [
    "from sklearn.preprocessing import MinMaxScaler\n",
    "scalar = MinMaxScaler()"
   ]
  },
  {
   "cell_type": "code",
   "execution_count": 47,
   "id": "db4fc71d-6dda-4a56-a890-bbdbfdea4de3",
   "metadata": {},
   "outputs": [],
   "source": [
    "#x_train = x_train.reshape(-1,1)\n",
    "#x_test = x_test.reshape(-1,1)"
   ]
  },
  {
   "cell_type": "code",
   "execution_count": 48,
   "id": "6dbe8637-1afe-4cd9-bf03-a137bf7fab2f",
   "metadata": {},
   "outputs": [],
   "source": [
    "x_train = scalar.fit_transform(x_train)\n",
    "x_test = scalar.transform(x_test)"
   ]
  },
  {
   "cell_type": "code",
   "execution_count": 49,
   "id": "c7bb5bdf",
   "metadata": {},
   "outputs": [],
   "source": [
    "from sklearn.linear_model import LogisticRegression\n",
    "lr = LogisticRegression()"
   ]
  },
  {
   "cell_type": "code",
   "execution_count": 50,
   "id": "79a5bb66-912c-4d40-8429-006ca0293bfa",
   "metadata": {},
   "outputs": [
    {
     "data": {
      "text/plain": [
       "(183, 14)"
      ]
     },
     "execution_count": 50,
     "metadata": {},
     "output_type": "execute_result"
    }
   ],
   "source": [
    "x_train.shape"
   ]
  },
  {
   "cell_type": "code",
   "execution_count": 51,
   "id": "e25a018d-3cb7-45e7-b5da-308b25615006",
   "metadata": {},
   "outputs": [
    {
     "data": {
      "text/plain": [
       "(183,)"
      ]
     },
     "execution_count": 51,
     "metadata": {},
     "output_type": "execute_result"
    }
   ],
   "source": [
    "y_train.shape"
   ]
  },
  {
   "cell_type": "code",
   "execution_count": 52,
   "id": "4f2f4612",
   "metadata": {},
   "outputs": [
    {
     "data": {
      "text/html": [
       "<style>#sk-container-id-1 {color: black;}#sk-container-id-1 pre{padding: 0;}#sk-container-id-1 div.sk-toggleable {background-color: white;}#sk-container-id-1 label.sk-toggleable__label {cursor: pointer;display: block;width: 100%;margin-bottom: 0;padding: 0.3em;box-sizing: border-box;text-align: center;}#sk-container-id-1 label.sk-toggleable__label-arrow:before {content: \"▸\";float: left;margin-right: 0.25em;color: #696969;}#sk-container-id-1 label.sk-toggleable__label-arrow:hover:before {color: black;}#sk-container-id-1 div.sk-estimator:hover label.sk-toggleable__label-arrow:before {color: black;}#sk-container-id-1 div.sk-toggleable__content {max-height: 0;max-width: 0;overflow: hidden;text-align: left;background-color: #f0f8ff;}#sk-container-id-1 div.sk-toggleable__content pre {margin: 0.2em;color: black;border-radius: 0.25em;background-color: #f0f8ff;}#sk-container-id-1 input.sk-toggleable__control:checked~div.sk-toggleable__content {max-height: 200px;max-width: 100%;overflow: auto;}#sk-container-id-1 input.sk-toggleable__control:checked~label.sk-toggleable__label-arrow:before {content: \"▾\";}#sk-container-id-1 div.sk-estimator input.sk-toggleable__control:checked~label.sk-toggleable__label {background-color: #d4ebff;}#sk-container-id-1 div.sk-label input.sk-toggleable__control:checked~label.sk-toggleable__label {background-color: #d4ebff;}#sk-container-id-1 input.sk-hidden--visually {border: 0;clip: rect(1px 1px 1px 1px);clip: rect(1px, 1px, 1px, 1px);height: 1px;margin: -1px;overflow: hidden;padding: 0;position: absolute;width: 1px;}#sk-container-id-1 div.sk-estimator {font-family: monospace;background-color: #f0f8ff;border: 1px dotted black;border-radius: 0.25em;box-sizing: border-box;margin-bottom: 0.5em;}#sk-container-id-1 div.sk-estimator:hover {background-color: #d4ebff;}#sk-container-id-1 div.sk-parallel-item::after {content: \"\";width: 100%;border-bottom: 1px solid gray;flex-grow: 1;}#sk-container-id-1 div.sk-label:hover label.sk-toggleable__label {background-color: #d4ebff;}#sk-container-id-1 div.sk-serial::before {content: \"\";position: absolute;border-left: 1px solid gray;box-sizing: border-box;top: 0;bottom: 0;left: 50%;z-index: 0;}#sk-container-id-1 div.sk-serial {display: flex;flex-direction: column;align-items: center;background-color: white;padding-right: 0.2em;padding-left: 0.2em;position: relative;}#sk-container-id-1 div.sk-item {position: relative;z-index: 1;}#sk-container-id-1 div.sk-parallel {display: flex;align-items: stretch;justify-content: center;background-color: white;position: relative;}#sk-container-id-1 div.sk-item::before, #sk-container-id-1 div.sk-parallel-item::before {content: \"\";position: absolute;border-left: 1px solid gray;box-sizing: border-box;top: 0;bottom: 0;left: 50%;z-index: -1;}#sk-container-id-1 div.sk-parallel-item {display: flex;flex-direction: column;z-index: 1;position: relative;background-color: white;}#sk-container-id-1 div.sk-parallel-item:first-child::after {align-self: flex-end;width: 50%;}#sk-container-id-1 div.sk-parallel-item:last-child::after {align-self: flex-start;width: 50%;}#sk-container-id-1 div.sk-parallel-item:only-child::after {width: 0;}#sk-container-id-1 div.sk-dashed-wrapped {border: 1px dashed gray;margin: 0 0.4em 0.5em 0.4em;box-sizing: border-box;padding-bottom: 0.4em;background-color: white;}#sk-container-id-1 div.sk-label label {font-family: monospace;font-weight: bold;display: inline-block;line-height: 1.2em;}#sk-container-id-1 div.sk-label-container {text-align: center;}#sk-container-id-1 div.sk-container {/* jupyter's `normalize.less` sets `[hidden] { display: none; }` but bootstrap.min.css set `[hidden] { display: none !important; }` so we also need the `!important` here to be able to override the default hidden behavior on the sphinx rendered scikit-learn.org. See: https://github.com/scikit-learn/scikit-learn/issues/21755 */display: inline-block !important;position: relative;}#sk-container-id-1 div.sk-text-repr-fallback {display: none;}</style><div id=\"sk-container-id-1\" class=\"sk-top-container\"><div class=\"sk-text-repr-fallback\"><pre>LogisticRegression()</pre><b>In a Jupyter environment, please rerun this cell to show the HTML representation or trust the notebook. <br />On GitHub, the HTML representation is unable to render, please try loading this page with nbviewer.org.</b></div><div class=\"sk-container\" hidden><div class=\"sk-item\"><div class=\"sk-estimator sk-toggleable\"><input class=\"sk-toggleable__control sk-hidden--visually\" id=\"sk-estimator-id-1\" type=\"checkbox\" checked><label for=\"sk-estimator-id-1\" class=\"sk-toggleable__label sk-toggleable__label-arrow\">LogisticRegression</label><div class=\"sk-toggleable__content\"><pre>LogisticRegression()</pre></div></div></div></div></div>"
      ],
      "text/plain": [
       "LogisticRegression()"
      ]
     },
     "execution_count": 52,
     "metadata": {},
     "output_type": "execute_result"
    }
   ],
   "source": [
    "lr.fit(x_train,y_train)"
   ]
  },
  {
   "cell_type": "code",
   "execution_count": 53,
   "id": "ec3d4ffb",
   "metadata": {},
   "outputs": [],
   "source": [
    "lr_pred = lr.predict(x_test)"
   ]
  },
  {
   "cell_type": "code",
   "execution_count": 54,
   "id": "ae341eb5",
   "metadata": {},
   "outputs": [
    {
     "data": {
      "text/plain": [
       "array([0, 0, 0, 0, 0, 0, 1, 0, 0, 0, 1, 0, 1, 0, 1, 0, 0, 0, 0, 1, 0, 0,\n",
       "       0, 0, 1, 1, 1, 1, 0, 0, 0, 1, 0, 1, 0, 0, 1, 0, 0, 0, 0, 0, 0, 0,\n",
       "       0, 1])"
      ]
     },
     "execution_count": 54,
     "metadata": {},
     "output_type": "execute_result"
    }
   ],
   "source": [
    "lr_pred"
   ]
  },
  {
   "cell_type": "code",
   "execution_count": 55,
   "id": "d63b4673-4de4-4e9a-8330-dde526cdea1a",
   "metadata": {},
   "outputs": [
    {
     "data": {
      "text/plain": [
       "array([0, 1, 0, 0, 0, 0, 1, 1, 0, 0, 1, 0, 1, 0, 1, 0, 0, 0, 1, 0, 0, 0,\n",
       "       0, 1, 1, 1, 0, 1, 0, 0, 0, 1, 0, 1, 0, 0, 0, 0, 0, 0, 0, 1, 0, 0,\n",
       "       1, 0])"
      ]
     },
     "execution_count": 55,
     "metadata": {},
     "output_type": "execute_result"
    }
   ],
   "source": [
    "y_test"
   ]
  },
  {
   "cell_type": "code",
   "execution_count": 56,
   "id": "b23dcaea-cdac-4ed6-bd78-f7e47295f441",
   "metadata": {},
   "outputs": [
    {
     "name": "stdout",
     "output_type": "stream",
     "text": [
      "Training Score:  88.52\n",
      "Testing Score:  78.26\n"
     ]
    }
   ],
   "source": [
    "print(\"Training Score: \", round(lr.score(x_train, y_train)*100,2))\n",
    "print(\"Testing Score: \", round(lr.score(x_test, y_test)*100,2))"
   ]
  },
  {
   "cell_type": "code",
   "execution_count": 57,
   "id": "c008573c-8880-43a0-b305-4a0aeb737771",
   "metadata": {},
   "outputs": [],
   "source": [
    "from sklearn.model_selection import cross_val_score"
   ]
  },
  {
   "cell_type": "code",
   "execution_count": 58,
   "id": "62f064b2-5d67-4924-8b2c-8ca2d5b7e788",
   "metadata": {},
   "outputs": [
    {
     "name": "stdout",
     "output_type": "stream",
     "text": [
      "Training:  86.92\n",
      "Testing:  82.67\n"
     ]
    }
   ],
   "source": [
    "print(\"Training: \", round(cross_val_score(lr, x_train, y_train).mean()*100,2))\n",
    "print(\"Testing: \", round(cross_val_score(lr, x_test, y_test).mean()*100,2))"
   ]
  },
  {
   "cell_type": "markdown",
   "id": "f68033f9-93ce-4dce-90c2-32933a7306fb",
   "metadata": {},
   "source": [
    "### Decision Tree Classifier"
   ]
  },
  {
   "cell_type": "code",
   "execution_count": 59,
   "id": "0a3830bd-fa6c-4f36-864d-d8131c73d77a",
   "metadata": {},
   "outputs": [
    {
     "name": "stdout",
     "output_type": "stream",
     "text": [
      "Predicted_Values: \n",
      " [0 0 0 1 0 1 0 1 1 0 1 0 1 0 1 0 0 0 0 1 1 0 0 0 1 1 1 1 0 0 0 0 0 1 0 0 1\n",
      " 0 0 0 0 0 0 0 0 0]\n",
      "\n",
      "Actual_Values: \n",
      " [0 1 0 0 0 0 1 1 0 0 1 0 1 0 1 0 0 0 1 0 0 0 0 1 1 1 0 1 0 0 0 1 0 1 0 0 0\n",
      " 0 0 0 0 1 0 0 1 0]\n",
      "\n",
      "Training Score:  100.0\n",
      "Testing Score:  69.56521739130434\n",
      "\n",
      "Training Cross Val Score:  75.45\n",
      "Testing Cross Val Score:  69.78\n"
     ]
    }
   ],
   "source": [
    "from sklearn.tree import DecisionTreeClassifier\n",
    "dt = DecisionTreeClassifier()\n",
    "dt.fit(x_train, y_train)\n",
    "dt_pred = dt.predict(x_test)\n",
    "print(\"Predicted_Values: \\n\",dt_pred)\n",
    "print(\"\\nActual_Values: \\n\",y_test)\n",
    "\n",
    "print(\"\\nTraining Score: \",dt.score(x_train, y_train)*100)\n",
    "print(\"Testing Score: \",dt.score(x_test, y_test)*100)\n",
    "\n",
    "#Cross val score\n",
    "print(\"\\nTraining Cross Val Score: \",round(((cross_val_score(dt, x_train, y_train)).mean())*100,2))\n",
    "print(\"Testing Cross Val Score: \", round(((cross_val_score(dt, x_test, y_test)).mean())*100,2))"
   ]
  },
  {
   "cell_type": "markdown",
   "id": "660f3194-2c31-47c8-a511-4fbb3eac2876",
   "metadata": {},
   "source": [
    "### Random Forest Classifier"
   ]
  },
  {
   "cell_type": "code",
   "execution_count": 60,
   "id": "0d5ec389-bba8-4e5d-bfd2-d3d68012aa38",
   "metadata": {},
   "outputs": [
    {
     "name": "stdout",
     "output_type": "stream",
     "text": [
      "Predicted_Values: \n",
      " [0 0 0 1 0 1 0 1 1 0 1 0 1 0 1 0 0 0 0 1 1 0 0 0 1 1 1 1 0 0 0 0 0 1 0 0 1\n",
      " 0 0 0 0 0 0 0 0 0]\n",
      "\n",
      "Actual_Values: \n",
      " [0 1 0 0 0 0 1 1 0 0 1 0 1 0 1 0 0 0 1 0 0 0 0 1 1 1 0 1 0 0 0 1 0 1 0 0 0\n",
      " 0 0 0 0 1 0 0 1 0]\n",
      "\n",
      "Training Score:  100.0\n",
      "Testing Score:  76.09\n",
      "\n",
      "Training Cross Val Score:  84.17\n",
      "Testing Cross Val Score:  86.89\n"
     ]
    }
   ],
   "source": [
    "from sklearn.ensemble import RandomForestClassifier\n",
    "rf = RandomForestClassifier()\n",
    "rf.fit(x_train, y_train)\n",
    "rf_pred = dt.predict(x_test)\n",
    "print(\"Predicted_Values: \\n\",rf_pred)\n",
    "print(\"\\nActual_Values: \\n\",y_test)\n",
    "\n",
    "print(\"\\nTraining Score: \",round(rf.score(x_train, y_train)*100,2))\n",
    "print(\"Testing Score: \",round(rf.score(x_test, y_test)*100,2))\n",
    "\n",
    "#Cross val score\n",
    "print(\"\\nTraining Cross Val Score: \",round(((cross_val_score(rf, x_train, y_train)).mean())*100,2))\n",
    "print(\"Testing Cross Val Score: \", round(((cross_val_score(rf, x_test, y_test)).mean())*100,2))"
   ]
  },
  {
   "cell_type": "code",
   "execution_count": null,
   "id": "ce60a9bc-2c00-4107-952a-10d99b334bb3",
   "metadata": {},
   "outputs": [],
   "source": []
  }
 ],
 "metadata": {
  "kernelspec": {
   "display_name": "Python 3 (ipykernel)",
   "language": "python",
   "name": "python3"
  },
  "language_info": {
   "codemirror_mode": {
    "name": "ipython",
    "version": 3
   },
   "file_extension": ".py",
   "mimetype": "text/x-python",
   "name": "python",
   "nbconvert_exporter": "python",
   "pygments_lexer": "ipython3",
   "version": "3.9.18"
  }
 },
 "nbformat": 4,
 "nbformat_minor": 5
}
